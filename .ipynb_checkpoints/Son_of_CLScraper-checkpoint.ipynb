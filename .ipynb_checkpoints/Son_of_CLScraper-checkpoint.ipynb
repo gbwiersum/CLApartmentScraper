{
 "cells": [
  {
   "cell_type": "markdown",
   "metadata": {
    "id": "InBNrici2lZT",
    "pycharm": {
     "name": "#%% md\n"
    }
   },
   "source": [
    "from google.colab import drive\n",
    "drive.mount('/content/drive')"
   ]
  },
  {
   "cell_type": "code",
   "execution_count": 5,
   "metadata": {
    "colab": {
     "base_uri": "https://localhost:8080/"
    },
    "id": "cyQnX9Xy1OnE",
    "outputId": "79732625-2642-4eba-f734-590db3d748fd",
    "pycharm": {
     "name": "#%%\n"
    }
   },
   "outputs": [],
   "source": [
    "#!apt update\n",
    "#!apt upgrade\n",
    "#!pip install selenium -q\n",
    "#!apt install chromium-chromedriver -y -q\n",
    "import requests\n",
    "from bs4 import BeautifulSoup\n",
    "import os\n",
    "import selenium\n",
    "from selenium import webdriver\n",
    "from selenium.webdriver.common.by import By\n",
    "import time\n",
    "import datetime\n",
    "import pandas as pd\n",
    "import re"
   ]
  },
  {
   "cell_type": "markdown",
   "metadata": {
    "id": "TZd5PVQq8NeI",
    "pycharm": {
     "name": "#%% md\n"
    }
   },
   "source": [
    "# Defining methods\n",
    "building the scraping engine. \n",
    "\n",
    "\n",
    "1.   Gets each page of listings\n",
    "2.   For each page of listings, gets attributes and headline descriptions, sqft, rent and a url for the posting.\n",
    "3. For each url, opens and scrapes all information.\n",
    "\n"
   ]
  },
  {
   "cell_type": "code",
   "execution_count": 6,
   "metadata": {
    "id": "vOziAQfY6aBk",
    "pycharm": {
     "name": "#%%\n"
    }
   },
   "outputs": [],
   "source": [
    "class Listing:\n",
    "\n",
    "  def __init__(self, url):\n",
    "    browser = start_browser()\n",
    "    browser.get(url)\n",
    "    \n",
    "    try:\n",
    "      self.html = BeautifulSoup(browser.page_source)\n",
    "    except:\n",
    "      browser.get(url)\n",
    "      time.sleep(2)\n",
    "      self.html = BeautifulSoup(browser.page_source)\n",
    "      \n",
    "    self.price = get_price(self)  \n",
    "    self.beds = get_beds(self)\n",
    "    self.sqft = get_sqft(self)\n",
    "    self.park = get_park(self)\n",
    "    self.baths = get_baths(self)\n",
    "    self.body = get_body(self)\n",
    "    self.address = get_address(self)\n",
    "    self.lat, self.lon = get_lat_lon(self)\n",
    "    self.date = get_date(self)\n",
    "    self.dog = get_dog(self)\n",
    "    self.cat = get_cat(self)\n",
    "    self.laundry = get_laundry(self)\n",
    "\n",
    "    self.url = url\n",
    "    self.ID = _xml_getter(url, before = \"/\", after=\".html\")[-10::]\n",
    "    \n",
    "\n",
    "  def get_attribute_dict(self):\n",
    "    attrdict = {self.ID: [self.url, self.html, self.price, self.beds, self.sqft, \n",
    "                          self.park, self.baths, self.body, self.address,\n",
    "                          self.lat, self.lon, self.date, self.dog, self.cat,\n",
    "                          self.laundry]}\n",
    "    return attrdict\n",
    "\n",
    "def get_price(self):\n",
    "  price = self.html.find_all('span', class_='price')[0].text\n",
    "  price = re.sub(r'[^\\d.]', '', str(price))\n",
    "  price = int(price)\n",
    "  self.price = price\n",
    "\n",
    "def get_beds(self):\n",
    "  housing = self.html.find('span', class_='housing')\n",
    "  if housing is not None:\n",
    "    beds = _xml_getter(housing.text, before='/ ', after=\"br \")\n",
    "  else: beds = 0\n",
    "  return(beds)\n",
    "\n",
    "def get_sqft(self):\n",
    "  housing = self.html.find('span', class_='housing')\n",
    "  if housing is not None:\n",
    "    sqft = _xml_getter(housing, before=' - ', after=\"ft2\")\n",
    "  else: sqft = None\n",
    "  return(sqft)\n",
    "\n",
    "def get_park(self):\n",
    "  park = _xml_getter(self.html, before='>', after=\"parking\")\n",
    "  return(park)\n",
    "\n",
    "def get_baths(self):\n",
    "    bedbath = self.html.find('span', class_='shared-line-bubble').text\n",
    "    baths = _xml_getter(bedbath, before=\"/ \", after='Ba')\n",
    "    try:\n",
    "        baths = int(baths)\n",
    "    except:\n",
    "        baths = 0\n",
    "    return(baths)\n",
    "\n",
    "def get_body(self):\n",
    "  body = self.html.find('section', id='postingbody').text\n",
    "  return(body)\n",
    "\n",
    "def get_address(self):\n",
    "  address = self.html.find('div', class_='mapaddress')\n",
    "  if address is not None:\n",
    "    location = address.text\n",
    "  else: location = None\n",
    "  return(location)\n",
    "\n",
    "def get_lat_lon(self):\n",
    "  try:  \n",
    "    lat = self.html.find('div', id='map').get('data-latitude')\n",
    "    lon = self.html.find('div', id='map').get('data-longitude')\n",
    "  except:\n",
    "    lat=None\n",
    "    lon=None\n",
    "\n",
    "  return(lat, lon)\n",
    "\n",
    "def get_dog(self):\n",
    "  attrgroup = self.html.find_all(\"p\", class_='attrgroup')[1]\n",
    "  dog = _get_attr(str(attrgroup), 'dog')\n",
    "  return(dog)\n",
    "\n",
    "def get_cat(self):\n",
    "  attrgroup = self.html.find_all(\"p\", class_='attrgroup')[1]\n",
    "  self.cat = _get_attr(str(attrgroup), 'cat')\n",
    "\n",
    "def get_laundry(self):\n",
    "  attrgroup = self.html.find_all(\"p\", class_='attrgroup')\n",
    "  if \"w/d\" in str(attrgroup[1]):\n",
    "    return(_xml_getter(str(attrgroup), before=\">w/d\", after=\"<\"))\n",
    "  elif \"laundry\" in attrgroup:\n",
    "    return(_get_attr(\"laundry\", str(attrgroup)))\n",
    "  else: return None\n",
    "\n",
    "def get_date(self):\n",
    "  return _xml_getter(self.html.find('time'), before='title=\"', after = '\"')\n",
    "\n",
    "def _get_attr(text, attr):\n",
    "  try:\n",
    "    spattr = re.search('\\n'+attr+'(.+?)\\n', text)\n",
    "    return spattr\n",
    "  except:\n",
    "    return None\n",
    "\n",
    "def start_browser():\n",
    "  chrome_options = webdriver.ChromeOptions()\n",
    "  chrome_options.add_argument('--headless')\n",
    "  chrome_options.add_argument('--no-sandbox')\n",
    "  #chrome_options.add_argument('--disable-dev-shm-usage')\n",
    "  browser = webdriver.Chrome('chromedriver', options=chrome_options)\n",
    "  browser.set_window_size(48, 32)\n",
    "  return(browser)\n",
    "\n",
    "#utility to pull variables out of xml data using leading and following tag.\n",
    "#I refusue to learn regex and this is my workaround for that.\n",
    "def _xml_getter(text, before=\"\", after=\"\"):\n",
    "  if text is not None:\n",
    "    text = str(text)\n",
    "    m = re.search(before+'(.+?)'+after, text)\n",
    "    if m:\n",
    "        found = m.group(1).strip()\n",
    "        return(found)\n",
    "  else: return None"
   ]
  },
  {
   "cell_type": "code",
   "execution_count": 7,
   "metadata": {
    "id": "SwYSkfSNdtv-",
    "pycharm": {
     "name": "#%%\n"
    }
   },
   "outputs": [],
   "source": [
    "#Gets all listings for a given search query. If I had a main, this would be it.\n",
    "#Pages come in batches of 120. Pass \"-1\" to pages for all.\n",
    "def get_listings(start_url, pages=-1, cooldown=0):\n",
    "  browser = start_browser()\n",
    "  results = {}\n",
    "  if pages == -1:\n",
    "    end = 2880\n",
    "  else:\n",
    "    end = pages*120\n",
    "\n",
    "  for n in range(0, end, 120):\n",
    "      if True: #need to fix hasnextpage():\n",
    "        if n>0:\n",
    "          browser.get((start_url+'?s='+str(n)))\n",
    "        else:\n",
    "          time.sleep(cooldown)\n",
    "          browser.get(start_url)\n",
    "\n",
    "        #Debug: \n",
    "        pagestart = BeautifulSoup(browser.page_source).find('span', class_='rangeFrom').text\n",
    "        pageend = BeautifulSoup(browser.page_source).find('span', class_='rangeTo').text\n",
    "        print(\"Processing: \"+pagestart+\" through \" + pageend)\n",
    "        #####\n",
    "\n",
    "        listings = browser.find_elements(by=By.CLASS_NAME, value='result-info')\n",
    "        for l in listings:\n",
    "          html = l.get_attribute('innerHTML')\n",
    "          attributes = get_listing_attributes(html)\n",
    "          results.update(attributes)\n",
    "      else:\n",
    "        break\n",
    "\n",
    "  results = pd.DataFrame.from_dict(results, orient = 'index')\n",
    "  return(results)\n",
    "\n",
    "#Rewriting results page into dictionary format\n",
    "#Takes html string of individual search result, returns dictionary with CL unique ID as index.\n",
    "def get_listing_attributes(html):\n",
    "    url = BeautifulSoup(html).a.get('href')\n",
    "\n",
    "    #todo: I think something's broken here - always returns null?\n",
    "    try:\n",
    "      price = BeautifulSoup(html).find('span', class_=\"result-price\").text\n",
    "      re.sub('[^0-9]','', price)\n",
    "      price = int(price)\n",
    "    except:\n",
    "      price = None\n",
    "    \n",
    "    date = BeautifulSoup(html).find('time', class_=\"result-date\").get('datetime')\n",
    "\n",
    "    try:\n",
    "      bed = _xml_getter(BeautifulSoup(html).find('span', class_=\"housing\").text, after='Bd')\n",
    "      re.sub('[^0-9]','', bed)\n",
    "      bed = int(bed)\n",
    "    except:\n",
    "      bed=0\n",
    "\n",
    "    try:\n",
    "        sqft = _xml_getter(BeautifulSoup(html).find('span', class_=\"housing\").text, before=\"\", after=\"ft2\")\n",
    "        re.sub('[^0-9]','', sqft)\n",
    "        sqft = int(sqft)\n",
    "    except:\n",
    "        sqft=0\n",
    "\n",
    "    heading = BeautifulSoup(html).find('a', class_=\"result-title hdrlnk\").text\n",
    "    id = BeautifulSoup(html).find('a', class_='result-title hdrlnk').get('data-id')\n",
    "\n",
    "    return({id:[heading, url, price, date, bed, sqft]})"
   ]
  },
  {
   "cell_type": "code",
   "execution_count": 10,
   "metadata": {
    "id": "cJuOaRydotoe",
    "pycharm": {
     "name": "#%%\n"
    }
   },
   "outputs": [
    {
     "name": "stdout",
     "output_type": "stream",
     "text": [
      "Processing: 1 through 120\n",
      "Processing: 1 through 120\n",
      "Processing: 1 through 120\n",
      "Processing: 1 through 120\n",
      "Processing: 1 through 120\n",
      "Processing: 1 through 120\n",
      "Processing: 1 through 120\n",
      "Processing: 1 through 120\n",
      "Processing: 1 through 120\n",
      "Processing: 1 through 120\n",
      "Processing: 1 through 120\n",
      "Processing: 1 through 120\n",
      "Processing: 1 through 120\n",
      "Processing: 1 through 120\n",
      "Processing: 1 through 120\n",
      "Processing: 1 through 120\n",
      "Processing: 1 through 120\n",
      "Processing: 1 through 120\n",
      "Processing: 1 through 120\n",
      "Processing: 1 through 120\n",
      "Processing: 1 through 120\n",
      "Processing: 1 through 120\n",
      "Processing: 1 through 120\n",
      "Processing: 1 through 120\n"
     ]
    }
   ],
   "source": [
    "listings = get_listings(start_url = 'https://chicago.craigslist.org/search/apa?postal=60647&search_distance=2', pages = -1)"
   ]
  },
  {
   "cell_type": "code",
   "execution_count": 11,
   "metadata": {
    "pycharm": {
     "name": "#%%\n"
    }
   },
   "outputs": [
    {
     "data": {
      "text/html": [
       "<div>\n",
       "<style scoped>\n",
       "    .dataframe tbody tr th:only-of-type {\n",
       "        vertical-align: middle;\n",
       "    }\n",
       "\n",
       "    .dataframe tbody tr th {\n",
       "        vertical-align: top;\n",
       "    }\n",
       "\n",
       "    .dataframe thead th {\n",
       "        text-align: right;\n",
       "    }\n",
       "</style>\n",
       "<table border=\"1\" class=\"dataframe\">\n",
       "  <thead>\n",
       "    <tr style=\"text-align: right;\">\n",
       "      <th></th>\n",
       "      <th>0</th>\n",
       "      <th>1</th>\n",
       "      <th>2</th>\n",
       "      <th>3</th>\n",
       "      <th>4</th>\n",
       "      <th>5</th>\n",
       "    </tr>\n",
       "  </thead>\n",
       "  <tbody>\n",
       "    <tr>\n",
       "      <th>7502325737</th>\n",
       "      <td>Luxury Loft In Logan Square! 1BR/2BA Available!</td>\n",
       "      <td>https://chicago.craigslist.org/chc/apa/d/chica...</td>\n",
       "      <td>None</td>\n",
       "      <td>2022-06-28 13:07</td>\n",
       "      <td>0</td>\n",
       "      <td>0</td>\n",
       "    </tr>\n",
       "    <tr>\n",
       "      <th>7503066315</th>\n",
       "      <td>High End 3 Bedroom 2 Bath Duplex UP in Logan S...</td>\n",
       "      <td>https://chicago.craigslist.org/chc/apa/d/chica...</td>\n",
       "      <td>None</td>\n",
       "      <td>2022-06-30 09:42</td>\n",
       "      <td>0</td>\n",
       "      <td>0</td>\n",
       "    </tr>\n",
       "    <tr>\n",
       "      <th>7503239723</th>\n",
       "      <td>3 Bed 2 Bath in Logan Square Duplex Down</td>\n",
       "      <td>https://chicago.craigslist.org/chc/apa/d/chica...</td>\n",
       "      <td>None</td>\n",
       "      <td>2022-06-30 15:36</td>\n",
       "      <td>0</td>\n",
       "      <td>0</td>\n",
       "    </tr>\n",
       "    <tr>\n",
       "      <th>7500806217</th>\n",
       "      <td>CHARMING LARGE LOGAN SQUARE HISTORIC REHAB 1br...</td>\n",
       "      <td>https://chicago.craigslist.org/chc/apa/d/chica...</td>\n",
       "      <td>None</td>\n",
       "      <td>2022-06-24 16:46</td>\n",
       "      <td>0</td>\n",
       "      <td>850</td>\n",
       "    </tr>\n",
       "    <tr>\n",
       "      <th>7490604765</th>\n",
       "      <td>Roommate needed Aug 1st</td>\n",
       "      <td>https://chicago.craigslist.org/wcl/apa/d/chica...</td>\n",
       "      <td>None</td>\n",
       "      <td>2022-05-31 14:13</td>\n",
       "      <td>0</td>\n",
       "      <td>1200</td>\n",
       "    </tr>\n",
       "    <tr>\n",
       "      <th>...</th>\n",
       "      <td>...</td>\n",
       "      <td>...</td>\n",
       "      <td>...</td>\n",
       "      <td>...</td>\n",
       "      <td>...</td>\n",
       "      <td>...</td>\n",
       "    </tr>\n",
       "    <tr>\n",
       "      <th>7499731210</th>\n",
       "      <td>Beautiful Two    Bedroom Units @ 2701 N Troy</td>\n",
       "      <td>https://chicago.craigslist.org/chc/apa/d/chica...</td>\n",
       "      <td>None</td>\n",
       "      <td>2022-06-22 10:15</td>\n",
       "      <td>0</td>\n",
       "      <td>0</td>\n",
       "    </tr>\n",
       "    <tr>\n",
       "      <th>7500592289</th>\n",
       "      <td>Beautiful Two    Bedroom Units @ 2701 N Troy</td>\n",
       "      <td>https://chicago.craigslist.org/chc/apa/d/chica...</td>\n",
       "      <td>None</td>\n",
       "      <td>2022-06-24 09:54</td>\n",
       "      <td>0</td>\n",
       "      <td>0</td>\n",
       "    </tr>\n",
       "    <tr>\n",
       "      <th>7501777493</th>\n",
       "      <td>Beautiful Two    Bedroom Units @ 2701 N Troy</td>\n",
       "      <td>https://chicago.craigslist.org/chc/apa/d/chica...</td>\n",
       "      <td>None</td>\n",
       "      <td>2022-06-27 09:54</td>\n",
       "      <td>0</td>\n",
       "      <td>0</td>\n",
       "    </tr>\n",
       "    <tr>\n",
       "      <th>7502229650</th>\n",
       "      <td>Beautiful Two    Bedroom Units @ 2701 N Troy</td>\n",
       "      <td>https://chicago.craigslist.org/chc/apa/d/chica...</td>\n",
       "      <td>None</td>\n",
       "      <td>2022-06-28 10:06</td>\n",
       "      <td>0</td>\n",
       "      <td>0</td>\n",
       "    </tr>\n",
       "    <tr>\n",
       "      <th>7502652669</th>\n",
       "      <td>Beautiful Two    Bedroom Units @ 2701 N Troy</td>\n",
       "      <td>https://chicago.craigslist.org/chc/apa/d/chica...</td>\n",
       "      <td>None</td>\n",
       "      <td>2022-06-29 10:03</td>\n",
       "      <td>0</td>\n",
       "      <td>0</td>\n",
       "    </tr>\n",
       "  </tbody>\n",
       "</table>\n",
       "<p>120 rows × 6 columns</p>\n",
       "</div>"
      ],
      "text/plain": [
       "                                                            0  \\\n",
       "7502325737    Luxury Loft In Logan Square! 1BR/2BA Available!   \n",
       "7503066315  High End 3 Bedroom 2 Bath Duplex UP in Logan S...   \n",
       "7503239723           3 Bed 2 Bath in Logan Square Duplex Down   \n",
       "7500806217  CHARMING LARGE LOGAN SQUARE HISTORIC REHAB 1br...   \n",
       "7490604765                            Roommate needed Aug 1st   \n",
       "...                                                       ...   \n",
       "7499731210       Beautiful Two    Bedroom Units @ 2701 N Troy   \n",
       "7500592289       Beautiful Two    Bedroom Units @ 2701 N Troy   \n",
       "7501777493       Beautiful Two    Bedroom Units @ 2701 N Troy   \n",
       "7502229650       Beautiful Two    Bedroom Units @ 2701 N Troy   \n",
       "7502652669       Beautiful Two    Bedroom Units @ 2701 N Troy   \n",
       "\n",
       "                                                            1     2  \\\n",
       "7502325737  https://chicago.craigslist.org/chc/apa/d/chica...  None   \n",
       "7503066315  https://chicago.craigslist.org/chc/apa/d/chica...  None   \n",
       "7503239723  https://chicago.craigslist.org/chc/apa/d/chica...  None   \n",
       "7500806217  https://chicago.craigslist.org/chc/apa/d/chica...  None   \n",
       "7490604765  https://chicago.craigslist.org/wcl/apa/d/chica...  None   \n",
       "...                                                       ...   ...   \n",
       "7499731210  https://chicago.craigslist.org/chc/apa/d/chica...  None   \n",
       "7500592289  https://chicago.craigslist.org/chc/apa/d/chica...  None   \n",
       "7501777493  https://chicago.craigslist.org/chc/apa/d/chica...  None   \n",
       "7502229650  https://chicago.craigslist.org/chc/apa/d/chica...  None   \n",
       "7502652669  https://chicago.craigslist.org/chc/apa/d/chica...  None   \n",
       "\n",
       "                           3  4     5  \n",
       "7502325737  2022-06-28 13:07  0     0  \n",
       "7503066315  2022-06-30 09:42  0     0  \n",
       "7503239723  2022-06-30 15:36  0     0  \n",
       "7500806217  2022-06-24 16:46  0   850  \n",
       "7490604765  2022-05-31 14:13  0  1200  \n",
       "...                      ... ..   ...  \n",
       "7499731210  2022-06-22 10:15  0     0  \n",
       "7500592289  2022-06-24 09:54  0     0  \n",
       "7501777493  2022-06-27 09:54  0     0  \n",
       "7502229650  2022-06-28 10:06  0     0  \n",
       "7502652669  2022-06-29 10:03  0     0  \n",
       "\n",
       "[120 rows x 6 columns]"
      ]
     },
     "execution_count": 11,
     "metadata": {},
     "output_type": "execute_result"
    }
   ],
   "source": [
    "listings"
   ]
  },
  {
   "cell_type": "code",
   "execution_count": null,
   "metadata": {
    "id": "81KMZhmLe8iK",
    "pycharm": {
     "name": "#%%\n"
    }
   },
   "outputs": [],
   "source": [
    "listingdf = pd.DataFrame()\n",
    "for n in listings[1]:\n",
    "  try:\n",
    "    listing = pd.DataFrame.from_dict(Listing(n).get_attribute_dict(), orient='index')\n",
    "    listingdf = listingdf.append(listing)\n",
    "    time.sleep(3)\n",
    "  except:\n",
    "    pass\n",
    "    \n",
    "listingdf.head()"
   ]
  },
  {
   "cell_type": "code",
   "execution_count": null,
   "metadata": {
    "colab": {
     "base_uri": "https://localhost:8080/"
    },
    "id": "QJgf74D94dEQ",
    "outputId": "2474e302-190b-4718-b4e6-6dfa5e8edb5d",
    "pycharm": {
     "name": "#%%\n"
    }
   },
   "outputs": [
    {
     "data": {
      "text/plain": [
       "<__main__.Listing at 0x7f0ed6080510>"
      ]
     },
     "execution_count": 70,
     "metadata": {},
     "output_type": "execute_result"
    }
   ],
   "source": [
    "Listing(listingdf[listingdf[11]==listingdf[11].min()][0].values[0])"
   ]
  },
  {
   "cell_type": "code",
   "execution_count": null,
   "metadata": {
    "id": "02pXLUJQk3IW",
    "pycharm": {
     "name": "#%%\n"
    }
   },
   "outputs": [],
   "source": [
    "#Now we need to find a way back on track. Some update older/newer?\n",
    "\n",
    "#newer = True to find all listings with a date greater than the oldest in the dataset\"\n",
    "#newer = False to find the oldest post and work back in time. next-next-etc\n",
    "#must specify url for search. This way markets could be compared??\n",
    "\n",
    "def update_listings(listing_df, url, newer=False):\n",
    "  oldest= listingdf[11].min()\n",
    "  newest = listingdf[11].max()\n",
    "  if newer:\n",
    "    date = newest\n",
    "    pointer = \"prev\"\n",
    "  elif not newer:\n",
    "    date = oldest\n",
    "    pointer = \"next\"\n",
    "\n",
    "  browser=start_browser()\n",
    "  browser.get(url)\n",
    "  BeautifulSoup(browser.page_source).find_all(\"time\", class_='result-date')\n",
    "\n",
    "  \n",
    "  updates = pd.DataFrame()  \n",
    "  while True:\n",
    "    #try:\n",
    "    button = browser.find_element(By.CLASS_NAME, \"next\")\n",
    "    button.click()\n",
    "    Listing(browser.current_url())\n",
    "    updates.append(pd.DataFrame.from_dict(Listing.get_attribute_dict(), orient='index'))\n",
    "    #except:\n",
    "      #break\n",
    "  return(updates)"
   ]
  },
  {
   "cell_type": "code",
   "execution_count": null,
   "metadata": {
    "id": "BRVVBOz7JFKn",
    "pycharm": {
     "name": "#%%\n"
    }
   },
   "outputs": [],
   "source": [
    "browser.get('https://chicago.craigslist.org/search/chc/apa/')"
   ]
  },
  {
   "cell_type": "code",
   "execution_count": null,
   "metadata": {
    "id": "8W5lQuiIMPFy",
    "pycharm": {
     "name": "#%%\n"
    }
   },
   "outputs": [],
   "source": [
    "dates = BeautifulSoup(browser.page_source).find_all(\"time\", class_='result-date')"
   ]
  },
  {
   "cell_type": "code",
   "execution_count": null,
   "metadata": {
    "colab": {
     "base_uri": "https://localhost:8080/",
     "height": 363
    },
    "id": "Xn8_x7XuNdKZ",
    "outputId": "f3e9f260-bee9-4ac0-869a-9a3fa05e7d2e",
    "pycharm": {
     "name": "#%%\n"
    }
   },
   "outputs": [
    {
     "ename": "ValueError",
     "evalue": "ignored",
     "output_type": "error",
     "traceback": [
      "\u001b[0;31m---------------------------------------------------------------------------\u001b[0m",
      "\u001b[0;31mValueError\u001b[0m                                Traceback (most recent call last)",
      "\u001b[0;32m<ipython-input-134-39be5880b414>\u001b[0m in \u001b[0;36m<module>\u001b[0;34m()\u001b[0m\n\u001b[1;32m      1\u001b[0m \u001b[0;32mfrom\u001b[0m \u001b[0mdatetime\u001b[0m \u001b[0;32mimport\u001b[0m \u001b[0mdatetime\u001b[0m\u001b[0;34m\u001b[0m\u001b[0;34m\u001b[0m\u001b[0m\n\u001b[1;32m      2\u001b[0m \u001b[0mposted\u001b[0m \u001b[0;34m=\u001b[0m \u001b[0m_xml_getter\u001b[0m\u001b[0;34m(\u001b[0m\u001b[0mdates\u001b[0m\u001b[0;34m[\u001b[0m\u001b[0;36m0\u001b[0m\u001b[0;34m]\u001b[0m\u001b[0;34m,\u001b[0m \u001b[0mbefore\u001b[0m\u001b[0;34m=\u001b[0m\u001b[0;34m'datetime=\"'\u001b[0m\u001b[0;34m,\u001b[0m \u001b[0mafter\u001b[0m\u001b[0;34m=\u001b[0m\u001b[0;34m' '\u001b[0m\u001b[0;34m)\u001b[0m\u001b[0;34m\u001b[0m\u001b[0;34m\u001b[0m\u001b[0m\n\u001b[0;32m----> 3\u001b[0;31m \u001b[0mdatetime_object\u001b[0m \u001b[0;34m=\u001b[0m \u001b[0mdatetime\u001b[0m\u001b[0;34m.\u001b[0m\u001b[0mstrptime\u001b[0m\u001b[0;34m(\u001b[0m\u001b[0mposted\u001b[0m\u001b[0;34m,\u001b[0m \u001b[0;34m'%y-%m-%d'\u001b[0m\u001b[0;34m)\u001b[0m\u001b[0;34m\u001b[0m\u001b[0;34m\u001b[0m\u001b[0m\n\u001b[0m\u001b[1;32m      4\u001b[0m \u001b[0mdatetime_object\u001b[0m\u001b[0;34m\u001b[0m\u001b[0;34m\u001b[0m\u001b[0m\n",
      "\u001b[0;32m/usr/lib/python3.7/_strptime.py\u001b[0m in \u001b[0;36m_strptime_datetime\u001b[0;34m(cls, data_string, format)\u001b[0m\n\u001b[1;32m    575\u001b[0m     \"\"\"Return a class cls instance based on the input string and the\n\u001b[1;32m    576\u001b[0m     format string.\"\"\"\n\u001b[0;32m--> 577\u001b[0;31m     \u001b[0mtt\u001b[0m\u001b[0;34m,\u001b[0m \u001b[0mfraction\u001b[0m\u001b[0;34m,\u001b[0m \u001b[0mgmtoff_fraction\u001b[0m \u001b[0;34m=\u001b[0m \u001b[0m_strptime\u001b[0m\u001b[0;34m(\u001b[0m\u001b[0mdata_string\u001b[0m\u001b[0;34m,\u001b[0m \u001b[0mformat\u001b[0m\u001b[0;34m)\u001b[0m\u001b[0;34m\u001b[0m\u001b[0;34m\u001b[0m\u001b[0m\n\u001b[0m\u001b[1;32m    578\u001b[0m     \u001b[0mtzname\u001b[0m\u001b[0;34m,\u001b[0m \u001b[0mgmtoff\u001b[0m \u001b[0;34m=\u001b[0m \u001b[0mtt\u001b[0m\u001b[0;34m[\u001b[0m\u001b[0;34m-\u001b[0m\u001b[0;36m2\u001b[0m\u001b[0;34m:\u001b[0m\u001b[0;34m]\u001b[0m\u001b[0;34m\u001b[0m\u001b[0;34m\u001b[0m\u001b[0m\n\u001b[1;32m    579\u001b[0m     \u001b[0margs\u001b[0m \u001b[0;34m=\u001b[0m \u001b[0mtt\u001b[0m\u001b[0;34m[\u001b[0m\u001b[0;34m:\u001b[0m\u001b[0;36m6\u001b[0m\u001b[0;34m]\u001b[0m \u001b[0;34m+\u001b[0m \u001b[0;34m(\u001b[0m\u001b[0mfraction\u001b[0m\u001b[0;34m,\u001b[0m\u001b[0;34m)\u001b[0m\u001b[0;34m\u001b[0m\u001b[0;34m\u001b[0m\u001b[0m\n",
      "\u001b[0;32m/usr/lib/python3.7/_strptime.py\u001b[0m in \u001b[0;36m_strptime\u001b[0;34m(data_string, format)\u001b[0m\n\u001b[1;32m    357\u001b[0m     \u001b[0;32mif\u001b[0m \u001b[0;32mnot\u001b[0m \u001b[0mfound\u001b[0m\u001b[0;34m:\u001b[0m\u001b[0;34m\u001b[0m\u001b[0;34m\u001b[0m\u001b[0m\n\u001b[1;32m    358\u001b[0m         raise ValueError(\"time data %r does not match format %r\" %\n\u001b[0;32m--> 359\u001b[0;31m                          (data_string, format))\n\u001b[0m\u001b[1;32m    360\u001b[0m     \u001b[0;32mif\u001b[0m \u001b[0mlen\u001b[0m\u001b[0;34m(\u001b[0m\u001b[0mdata_string\u001b[0m\u001b[0;34m)\u001b[0m \u001b[0;34m!=\u001b[0m \u001b[0mfound\u001b[0m\u001b[0;34m.\u001b[0m\u001b[0mend\u001b[0m\u001b[0;34m(\u001b[0m\u001b[0;34m)\u001b[0m\u001b[0;34m:\u001b[0m\u001b[0;34m\u001b[0m\u001b[0;34m\u001b[0m\u001b[0m\n\u001b[1;32m    361\u001b[0m         raise ValueError(\"unconverted data remains: %s\" %\n",
      "\u001b[0;31mValueError\u001b[0m: time data '2022-06-14' does not match format '%y-%m-%d'"
     ]
    }
   ],
   "source": [
    "from datetime import datetime\n",
    "posted = _xml_getter(dates[0], before='datetime=\"', after=' ')\n",
    "datetime_object = datetime.strptime(posted, '%y-%m-%d')\n",
    "datetime_object"
   ]
  },
  {
   "cell_type": "code",
   "execution_count": null,
   "metadata": {
    "colab": {
     "base_uri": "https://localhost:8080/",
     "height": 35
    },
    "id": "v3uAD9pdN_0c",
    "outputId": "d20c14c3-fc67-4a65-c81d-2f333c502635",
    "pycharm": {
     "name": "#%%\n"
    }
   },
   "outputs": [
    {
     "data": {
      "application/vnd.google.colaboratory.intrinsic+json": {
       "type": "string"
      },
      "text/plain": [
       "'2022-06-14 12:07'"
      ]
     },
     "execution_count": 132,
     "metadata": {},
     "output_type": "execute_result"
    }
   ],
   "source": [
    "posted"
   ]
  },
  {
   "cell_type": "code",
   "execution_count": null,
   "metadata": {
    "id": "tEFIPd71t92D",
    "pycharm": {
     "name": "#%%\n"
    }
   },
   "outputs": [],
   "source": [
    "#TODO: save the scraped results into a dataframe or json or something\n",
    "\n",
    "version = datetime.date.today().strftime(\"%y%m%d\")\n",
    "listingdf.to_csv('/content/drive/MyDrive/'+version+'cl-scraped.csv')"
   ]
  },
  {
   "cell_type": "markdown",
   "metadata": {
    "id": "8OKBGeob6haC",
    "pycharm": {
     "name": "#%% md\n"
    }
   },
   "source": [
    "# Analysis"
   ]
  },
  {
   "cell_type": "code",
   "execution_count": null,
   "metadata": {
    "colab": {
     "base_uri": "https://localhost:8080/"
    },
    "id": "KNUapwpw8BdE",
    "outputId": "9b734ce4-f6fb-4dfc-ca99-36bf844db8bb",
    "pycharm": {
     "name": "#%%\n"
    }
   },
   "outputs": [
    {
     "name": "stdout",
     "output_type": "stream",
     "text": [
      "[nltk_data] Downloading package stopwords to /root/nltk_data...\n",
      "[nltk_data]   Package stopwords is already up-to-date!\n"
     ]
    },
    {
     "data": {
      "text/plain": [
       "            1039.0\n",
       "in           964.0\n",
       "1            798.0\n",
       "2            773.0\n",
       "bedroom      652.0\n",
       "             ...  \n",
       "legit          1.0\n",
       "ample          1.0\n",
       "brighton       1.0\n",
       "albion         1.0\n",
       "c2             1.0\n",
       "Length: 1847, dtype: float64"
      ]
     },
     "execution_count": 151,
     "metadata": {},
     "output_type": "execute_result"
    }
   ],
   "source": [
    "import nltk\n",
    "nltk.download('stopwords')\n",
    "from nltk.corpus import stopwords\n",
    "stop = stopwords.words('english')"
   ]
  },
  {
   "cell_type": "code",
   "execution_count": null,
   "metadata": {
    "colab": {
     "base_uri": "https://localhost:8080/"
    },
    "id": "vpaO5QnPk_uY",
    "outputId": "8a6ab4d9-9134-481d-e47e-6cbc0487729c",
    "pycharm": {
     "name": "#%%\n"
    }
   },
   "outputs": [
    {
     "data": {
      "text/plain": [
       "            1039.0\n",
       "in           964.0\n",
       "1            798.0\n",
       "2            773.0\n",
       "bedroom      652.0\n",
       "             ...  \n",
       "legit          1.0\n",
       "ample          1.0\n",
       "brighton       1.0\n",
       "albion         1.0\n",
       "c2             1.0\n",
       "Length: 1847, dtype: float64"
      ]
     },
     "execution_count": 161,
     "metadata": {},
     "output_type": "execute_result"
    }
   ],
   "source": [
    "def clean(heading):\n",
    "  heading = re.sub('[^0-9a-zA-Z]+', \" \", heading)\n",
    "  heading = heading.lower()\n",
    "  return(heading)"
   ]
  },
  {
   "cell_type": "code",
   "execution_count": null,
   "metadata": {
    "colab": {
     "base_uri": "https://localhost:8080/",
     "height": 236
    },
    "id": "h2ppNKz-9G0k",
    "outputId": "650cf4ba-8264-4731-dbaa-e4540fa6be5e",
    "pycharm": {
     "name": "#%%\n"
    }
   },
   "outputs": [
    {
     "data": {
      "text/plain": [
       "<matplotlib.image.AxesImage at 0x7fb672ac5790>"
      ]
     },
     "execution_count": 147,
     "metadata": {},
     "output_type": "execute_result"
    },
    {
     "data": {
      "image/png": "[encoded data removed]",
      "text/plain": [
       "<Figure size 432x288 with 1 Axes>"
      ]
     },
     "metadata": {
      "needs_background": "light"
     },
     "output_type": "display_data"
    }
   ],
   "source": [
    "from wordcloud import WordCloud, STOPWORDS, ImageColorGenerator\n",
    "import matplotlib.pyplot as plt\n",
    "cloud = WordCloud().generate(str(words.keys()))\n",
    "plt.imshow(cloud)"
   ]
  },
  {
   "cell_type": "code",
   "execution_count": null,
   "metadata": {
    "colab": {
     "base_uri": "https://localhost:8080/",
     "height": 346
    },
    "id": "mU63mleGq64V",
    "outputId": "e5252630-42d4-4da3-e150-3a27a07c05e7",
    "pycharm": {
     "name": "#%%\n"
    }
   },
   "outputs": [
    {
     "ename": "KeyError",
     "evalue": "ignored",
     "output_type": "error",
     "traceback": [
      "\u001b[0;31m---------------------------------------------------------------------------\u001b[0m",
      "\u001b[0;31mKeyError\u001b[0m                                  Traceback (most recent call last)",
      "\u001b[0;32m<ipython-input-180-539529220cf7>\u001b[0m in \u001b[0;36m<module>\u001b[0;34m()\u001b[0m\n\u001b[1;32m      1\u001b[0m \u001b[0mlistingdf\u001b[0m\u001b[0;34m[\u001b[0m\u001b[0;34m\"heading\"\u001b[0m\u001b[0;34m]\u001b[0m\u001b[0;34m=\u001b[0m\u001b[0mlistingdf\u001b[0m\u001b[0;34m[\u001b[0m\u001b[0;34m\"heading\"\u001b[0m\u001b[0;34m]\u001b[0m\u001b[0;34m.\u001b[0m\u001b[0mapply\u001b[0m\u001b[0;34m(\u001b[0m\u001b[0;32mlambda\u001b[0m \u001b[0mx\u001b[0m\u001b[0;34m:\u001b[0m \u001b[0mclean\u001b[0m\u001b[0;34m(\u001b[0m\u001b[0mx\u001b[0m\u001b[0;34m)\u001b[0m\u001b[0;34m)\u001b[0m\u001b[0;34m\u001b[0m\u001b[0;34m\u001b[0m\u001b[0m\n\u001b[1;32m      2\u001b[0m \u001b[0mheading_dummies\u001b[0m \u001b[0;34m=\u001b[0m \u001b[0mlistingdf\u001b[0m\u001b[0;34m[\u001b[0m\u001b[0;34m\"heading\"\u001b[0m\u001b[0;34m]\u001b[0m\u001b[0;34m.\u001b[0m\u001b[0mstr\u001b[0m\u001b[0;34m.\u001b[0m\u001b[0mget_dummies\u001b[0m\u001b[0;34m(\u001b[0m\u001b[0msep\u001b[0m\u001b[0;34m=\u001b[0m\u001b[0;34m\" \"\u001b[0m\u001b[0;34m)\u001b[0m\u001b[0;34m\u001b[0m\u001b[0;34m\u001b[0m\u001b[0m\n\u001b[0;32m----> 3\u001b[0;31m \u001b[0mlistingdf\u001b[0m\u001b[0;34m.\u001b[0m\u001b[0mset_index\u001b[0m\u001b[0;34m(\u001b[0m\u001b[0;34m'key'\u001b[0m\u001b[0;34m)\u001b[0m\u001b[0;34m.\u001b[0m\u001b[0mjoin\u001b[0m\u001b[0;34m(\u001b[0m\u001b[0mheading_dummies\u001b[0m\u001b[0;34m.\u001b[0m\u001b[0mset_index\u001b[0m\u001b[0;34m(\u001b[0m\u001b[0;34m'key'\u001b[0m\u001b[0;34m)\u001b[0m\u001b[0;34m)\u001b[0m\u001b[0;34m\u001b[0m\u001b[0;34m\u001b[0m\u001b[0m\n\u001b[0m",
      "\u001b[0;32m/usr/local/lib/python3.7/dist-packages/pandas/util/_decorators.py\u001b[0m in \u001b[0;36mwrapper\u001b[0;34m(*args, **kwargs)\u001b[0m\n\u001b[1;32m    309\u001b[0m                     \u001b[0mstacklevel\u001b[0m\u001b[0;34m=\u001b[0m\u001b[0mstacklevel\u001b[0m\u001b[0;34m,\u001b[0m\u001b[0;34m\u001b[0m\u001b[0;34m\u001b[0m\u001b[0m\n\u001b[1;32m    310\u001b[0m                 )\n\u001b[0;32m--> 311\u001b[0;31m             \u001b[0;32mreturn\u001b[0m \u001b[0mfunc\u001b[0m\u001b[0;34m(\u001b[0m\u001b[0;34m*\u001b[0m\u001b[0margs\u001b[0m\u001b[0;34m,\u001b[0m \u001b[0;34m**\u001b[0m\u001b[0mkwargs\u001b[0m\u001b[0;34m)\u001b[0m\u001b[0;34m\u001b[0m\u001b[0;34m\u001b[0m\u001b[0m\n\u001b[0m\u001b[1;32m    312\u001b[0m \u001b[0;34m\u001b[0m\u001b[0m\n\u001b[1;32m    313\u001b[0m         \u001b[0;32mreturn\u001b[0m \u001b[0mwrapper\u001b[0m\u001b[0;34m\u001b[0m\u001b[0;34m\u001b[0m\u001b[0m\n",
      "\u001b[0;32m/usr/local/lib/python3.7/dist-packages/pandas/core/frame.py\u001b[0m in \u001b[0;36mset_index\u001b[0;34m(self, keys, drop, append, inplace, verify_integrity)\u001b[0m\n\u001b[1;32m   5449\u001b[0m \u001b[0;34m\u001b[0m\u001b[0m\n\u001b[1;32m   5450\u001b[0m         \u001b[0;32mif\u001b[0m \u001b[0mmissing\u001b[0m\u001b[0;34m:\u001b[0m\u001b[0;34m\u001b[0m\u001b[0;34m\u001b[0m\u001b[0m\n\u001b[0;32m-> 5451\u001b[0;31m             \u001b[0;32mraise\u001b[0m \u001b[0mKeyError\u001b[0m\u001b[0;34m(\u001b[0m\u001b[0;34mf\"None of {missing} are in the columns\"\u001b[0m\u001b[0;34m)\u001b[0m\u001b[0;34m\u001b[0m\u001b[0;34m\u001b[0m\u001b[0m\n\u001b[0m\u001b[1;32m   5452\u001b[0m \u001b[0;34m\u001b[0m\u001b[0m\n\u001b[1;32m   5453\u001b[0m         \u001b[0;32mif\u001b[0m \u001b[0minplace\u001b[0m\u001b[0;34m:\u001b[0m\u001b[0;34m\u001b[0m\u001b[0;34m\u001b[0m\u001b[0m\n",
      "\u001b[0;31mKeyError\u001b[0m: \"None of ['key'] are in the columns\""
     ]
    }
   ],
   "source": [
    "listingdf[\"heading\"]=listingdf[\"heading\"].apply(lambda x: clean(x))\n",
    "heading_dummies = listingdf[\"heading\"].str.get_dummies(sep=\" \")\n",
    "listingdf.set_index('key').join(heading_dummies.set_index('key'))"
   ]
  },
  {
   "cell_type": "code",
   "execution_count": null,
   "metadata": {
    "colab": {
     "base_uri": "https://localhost:8080/"
    },
    "id": "U3dNjdXYsZ_Y",
    "outputId": "1bd2be5e-349e-4b8d-b957-7891ebcc2050",
    "pycharm": {
     "name": "#%%\n"
    }
   },
   "outputs": [
    {
     "name": "stderr",
     "output_type": "stream",
     "text": [
      "/usr/local/lib/python3.7/dist-packages/pandas/core/frame.py:3641: PerformanceWarning: DataFrame is highly fragmented.  This is usually the result of calling `frame.insert` many times, which has poor performance.  Consider joining all columns at once using pd.concat(axis=1) instead.  To get a de-fragmented frame, use `newframe = frame.copy()`\n",
      "  self[k1] = value[k2]\n"
     ]
    }
   ],
   "source": [
    "listingdf['Index']=listingdf.index\n",
    "heading_dummies['Index']=listingdf.index\n",
    "listingdf[list(heading_dummies.columns)]=heading_dummies"
   ]
  },
  {
   "cell_type": "code",
   "execution_count": null,
   "metadata": {
    "colab": {
     "base_uri": "https://localhost:8080/",
     "height": 423
    },
    "id": "wJt3wwvjvco3",
    "outputId": "b0f6c349-38a9-4aee-91c5-d7d133db2921",
    "pycharm": {
     "name": "#%%\n"
    }
   },
   "outputs": [
    {
     "data": {
      "text/html": [
       "\n",
       "  <div id=\"df-89af3963-1a1f-45d7-9560-cda6a0ba0749\">\n",
       "    <div class=\"colab-df-container\">\n",
       "      <div>\n",
       "<style scoped>\n",
       "    .dataframe tbody tr th:only-of-type {\n",
       "        vertical-align: middle;\n",
       "    }\n",
       "\n",
       "    .dataframe tbody tr th {\n",
       "        vertical-align: top;\n",
       "    }\n",
       "\n",
       "    .dataframe thead th {\n",
       "        text-align: right;\n",
       "    }\n",
       "</style>\n",
       "<table border=\"1\" class=\"dataframe\">\n",
       "  <thead>\n",
       "    <tr style=\"text-align: right;\">\n",
       "      <th></th>\n",
       "      <th>url</th>\n",
       "      <th>northwestern</th>\n",
       "    </tr>\n",
       "  </thead>\n",
       "  <tbody>\n",
       "    <tr>\n",
       "      <th>7487725082</th>\n",
       "      <td>https://chicago.craigslist.org/chc/apa/d/evans...</td>\n",
       "      <td>1</td>\n",
       "    </tr>\n",
       "    <tr>\n",
       "      <th>7487724827</th>\n",
       "      <td>https://chicago.craigslist.org/chc/apa/d/evans...</td>\n",
       "      <td>1</td>\n",
       "    </tr>\n",
       "    <tr>\n",
       "      <th>7487724532</th>\n",
       "      <td>https://chicago.craigslist.org/chc/apa/d/evans...</td>\n",
       "      <td>1</td>\n",
       "    </tr>\n",
       "    <tr>\n",
       "      <th>7487724271</th>\n",
       "      <td>https://chicago.craigslist.org/chc/apa/d/evans...</td>\n",
       "      <td>1</td>\n",
       "    </tr>\n",
       "    <tr>\n",
       "      <th>7487724227</th>\n",
       "      <td>https://chicago.craigslist.org/chc/apa/d/chica...</td>\n",
       "      <td>0</td>\n",
       "    </tr>\n",
       "    <tr>\n",
       "      <th>...</th>\n",
       "      <td>...</td>\n",
       "      <td>...</td>\n",
       "    </tr>\n",
       "    <tr>\n",
       "      <th>7480738954</th>\n",
       "      <td>https://chicago.craigslist.org/nwc/apa/d/arlin...</td>\n",
       "      <td>0</td>\n",
       "    </tr>\n",
       "    <tr>\n",
       "      <th>7480726937</th>\n",
       "      <td>https://chicago.craigslist.org/chc/apa/d/chica...</td>\n",
       "      <td>0</td>\n",
       "    </tr>\n",
       "    <tr>\n",
       "      <th>7480726072</th>\n",
       "      <td>https://chicago.craigslist.org/chc/apa/d/chica...</td>\n",
       "      <td>0</td>\n",
       "    </tr>\n",
       "    <tr>\n",
       "      <th>7480724670</th>\n",
       "      <td>https://chicago.craigslist.org/nch/apa/d/highw...</td>\n",
       "      <td>0</td>\n",
       "    </tr>\n",
       "    <tr>\n",
       "      <th>7480721281</th>\n",
       "      <td>https://chicago.craigslist.org/chc/apa/d/chica...</td>\n",
       "      <td>0</td>\n",
       "    </tr>\n",
       "  </tbody>\n",
       "</table>\n",
       "<p>2857 rows × 2 columns</p>\n",
       "</div>\n",
       "      <button class=\"colab-df-convert\" onclick=\"convertToInteractive('df-89af3963-1a1f-45d7-9560-cda6a0ba0749')\"\n",
       "              title=\"Convert this dataframe to an interactive table.\"\n",
       "              style=\"display:none;\">\n",
       "        \n",
       "  <svg xmlns=\"http://www.w3.org/2000/svg\" height=\"24px\"viewBox=\"0 0 24 24\"\n",
       "       width=\"24px\">\n",
       "    <path d=\"M0 0h24v24H0V0z\" fill=\"none\"/>\n",
       "    <path d=\"M18.56 5.44l.94 2.06.94-2.06 2.06-.94-2.06-.94-.94-2.06-.94 2.06-2.06.94zm-11 1L8.5 8.5l.94-2.06 2.06-.94-2.06-.94L8.5 2.5l-.94 2.06-2.06.94zm10 10l.94 2.06.94-2.06 2.06-.94-2.06-.94-.94-2.06-.94 2.06-2.06.94z\"/><path d=\"M17.41 7.96l-1.37-1.37c-.4-.4-.92-.59-1.43-.59-.52 0-1.04.2-1.43.59L10.3 9.45l-7.72 7.72c-.78.78-.78 2.05 0 2.83L4 21.41c.39.39.9.59 1.41.59.51 0 1.02-.2 1.41-.59l7.78-7.78 2.81-2.81c.8-.78.8-2.07 0-2.86zM5.41 20L4 18.59l7.72-7.72 1.47 1.35L5.41 20z\"/>\n",
       "  </svg>\n",
       "      </button>\n",
       "      \n",
       "  <style>\n",
       "    .colab-df-container {\n",
       "      display:flex;\n",
       "      flex-wrap:wrap;\n",
       "      gap: 12px;\n",
       "    }\n",
       "\n",
       "    .colab-df-convert {\n",
       "      background-color: #E8F0FE;\n",
       "      border: none;\n",
       "      border-radius: 50%;\n",
       "      cursor: pointer;\n",
       "      display: none;\n",
       "      fill: #1967D2;\n",
       "      height: 32px;\n",
       "      padding: 0 0 0 0;\n",
       "      width: 32px;\n",
       "    }\n",
       "\n",
       "    .colab-df-convert:hover {\n",
       "      background-color: #E2EBFA;\n",
       "      box-shadow: 0px 1px 2px rgba(60, 64, 67, 0.3), 0px 1px 3px 1px rgba(60, 64, 67, 0.15);\n",
       "      fill: #174EA6;\n",
       "    }\n",
       "\n",
       "    [theme=dark] .colab-df-convert {\n",
       "      background-color: #3B4455;\n",
       "      fill: #D2E3FC;\n",
       "    }\n",
       "\n",
       "    [theme=dark] .colab-df-convert:hover {\n",
       "      background-color: #434B5C;\n",
       "      box-shadow: 0px 1px 3px 1px rgba(0, 0, 0, 0.15);\n",
       "      filter: drop-shadow(0px 1px 2px rgba(0, 0, 0, 0.3));\n",
       "      fill: #FFFFFF;\n",
       "    }\n",
       "  </style>\n",
       "\n",
       "      <script>\n",
       "        const buttonEl =\n",
       "          document.querySelector('#df-89af3963-1a1f-45d7-9560-cda6a0ba0749 button.colab-df-convert');\n",
       "        buttonEl.style.display =\n",
       "          google.colab.kernel.accessAllowed ? 'block' : 'none';\n",
       "\n",
       "        async function convertToInteractive(key) {\n",
       "          const element = document.querySelector('#df-89af3963-1a1f-45d7-9560-cda6a0ba0749');\n",
       "          const dataTable =\n",
       "            await google.colab.kernel.invokeFunction('convertToInteractive',\n",
       "                                                     [key], {});\n",
       "          if (!dataTable) return;\n",
       "\n",
       "          const docLinkHtml = 'Like what you see? Visit the ' +\n",
       "            '<a target=\"_blank\" href=https://colab.research.google.com/notebooks/data_table.ipynb>data table notebook</a>'\n",
       "            + ' to learn more about interactive tables.';\n",
       "          element.innerHTML = '';\n",
       "          dataTable['output_type'] = 'display_data';\n",
       "          await google.colab.output.renderOutput(dataTable, element);\n",
       "          const docLink = document.createElement('div');\n",
       "          docLink.innerHTML = docLinkHtml;\n",
       "          element.appendChild(docLink);\n",
       "        }\n",
       "      </script>\n",
       "    </div>\n",
       "  </div>\n",
       "  "
      ],
      "text/plain": [
       "                                                          url  northwestern\n",
       "7487725082  https://chicago.craigslist.org/chc/apa/d/evans...             1\n",
       "7487724827  https://chicago.craigslist.org/chc/apa/d/evans...             1\n",
       "7487724532  https://chicago.craigslist.org/chc/apa/d/evans...             1\n",
       "7487724271  https://chicago.craigslist.org/chc/apa/d/evans...             1\n",
       "7487724227  https://chicago.craigslist.org/chc/apa/d/chica...             0\n",
       "...                                                       ...           ...\n",
       "7480738954  https://chicago.craigslist.org/nwc/apa/d/arlin...             0\n",
       "7480726937  https://chicago.craigslist.org/chc/apa/d/chica...             0\n",
       "7480726072  https://chicago.craigslist.org/chc/apa/d/chica...             0\n",
       "7480724670  https://chicago.craigslist.org/nch/apa/d/highw...             0\n",
       "7480721281  https://chicago.craigslist.org/chc/apa/d/chica...             0\n",
       "\n",
       "[2857 rows x 2 columns]"
      ]
     },
     "execution_count": 202,
     "metadata": {},
     "output_type": "execute_result"
    }
   ],
   "source": [
    "listingdf[['url', 'northwestern']]"
   ]
  },
  {
   "cell_type": "code",
   "execution_count": null,
   "metadata": {
    "colab": {
     "base_uri": "https://localhost:8080/"
    },
    "id": "tpZDxLwRhmcR",
    "outputId": "fbc0d53b-3713-4ab1-e162-0bd9a4df5f8d",
    "pycharm": {
     "name": "#%%\n"
    }
   },
   "outputs": [
    {
     "name": "stderr",
     "output_type": "stream",
     "text": [
      "/usr/local/lib/python3.7/dist-packages/ipykernel_launcher.py:3: SettingWithCopyWarning: \n",
      "A value is trying to be set on a copy of a slice from a DataFrame.\n",
      "Try using .loc[row_indexer,col_indexer] = value instead\n",
      "\n",
      "See the caveats in the documentation: https://pandas.pydata.org/pandas-docs/stable/user_guide/indexing.html#returning-a-view-versus-a-copy\n",
      "  This is separate from the ipykernel package so we can avoid doing imports until\n",
      "/usr/local/lib/python3.7/dist-packages/ipykernel_launcher.py:4: SettingWithCopyWarning: \n",
      "A value is trying to be set on a copy of a slice from a DataFrame.\n",
      "Try using .loc[row_indexer,col_indexer] = value instead\n",
      "\n",
      "See the caveats in the documentation: https://pandas.pydata.org/pandas-docs/stable/user_guide/indexing.html#returning-a-view-versus-a-copy\n",
      "  after removing the cwd from sys.path.\n",
      "/usr/local/lib/python3.7/dist-packages/pandas/core/generic.py:6392: SettingWithCopyWarning: \n",
      "A value is trying to be set on a copy of a slice from a DataFrame\n",
      "\n",
      "See the caveats in the documentation: https://pandas.pydata.org/pandas-docs/stable/user_guide/indexing.html#returning-a-view-versus-a-copy\n",
      "  return self._update_inplace(result)\n",
      "/usr/local/lib/python3.7/dist-packages/pandas/core/generic.py:6619: SettingWithCopyWarning: \n",
      "A value is trying to be set on a copy of a slice from a DataFrame\n",
      "\n",
      "See the caveats in the documentation: https://pandas.pydata.org/pandas-docs/stable/user_guide/indexing.html#returning-a-view-versus-a-copy\n",
      "  return self._update_inplace(result)\n",
      "/usr/local/lib/python3.7/dist-packages/ipykernel_launcher.py:20: SettingWithCopyWarning: \n",
      "A value is trying to be set on a copy of a slice from a DataFrame.\n",
      "Try using .loc[row_indexer,col_indexer] = value instead\n",
      "\n",
      "See the caveats in the documentation: https://pandas.pydata.org/pandas-docs/stable/user_guide/indexing.html#returning-a-view-versus-a-copy\n",
      "/usr/local/lib/python3.7/dist-packages/ipykernel_launcher.py:23: SettingWithCopyWarning: \n",
      "A value is trying to be set on a copy of a slice from a DataFrame.\n",
      "Try using .loc[row_indexer,col_indexer] = value instead\n",
      "\n",
      "See the caveats in the documentation: https://pandas.pydata.org/pandas-docs/stable/user_guide/indexing.html#returning-a-view-versus-a-copy\n"
     ]
    }
   ],
   "source": [
    "#df=pd.read_csv('./CLScraped.csv')\n",
    "dummy = df[['rent','sqft', 'beds', 'baths', 'parking', 'lat', 'lon', 'dogs', 'cats', 'laundry']]\n",
    "dummy['rent'] = dummy['rent'].apply(lambda x: (x-min(dummy['rent']))/(max(dummy['rent'])))\n",
    "dummy['beds']=dummy['beds']/max(dummy['beds'])\n",
    "dummy['dogs'].fillna(0, inplace=True)\n",
    "dummy['dogs'].replace(\"dogs are OK - wooof\", 1, inplace=True)\n",
    "dummy['cats'].fillna(0, inplace=True)\n",
    "dummy['cats'].replace('cats are OK - purrr', 1, inplace = True)\n",
    "dummy['laundry'].replace('laundry in bldg', 1, inplace=True)\n",
    "dummy[\"laundry\"].replace('laundry on site', 1, inplace=True)\n",
    "dummy['laundry'].fillna(0, inplace=True)\n",
    "dummy[dummy['parking'].notnull()]['parking']=1\n",
    "dummy['parking'].fillna(0, inplace=True)\n",
    "dummy['sqft'].replace(0, None)\n",
    "\n",
    "#########delete this later\n",
    "def fixbaths(text):\n",
    "  m = re.search('/ (.+?)', text)\n",
    "  return(float(m.group(1)))\n",
    "dummy['baths']=dummy['baths'].apply(lambda x: fixbaths(x))\n",
    "#########\n",
    "\n",
    "dummy['baths']=dummy['baths']/max(dummy['baths'])\n",
    "\n",
    "dummy = dummy.drop(columns=['sqft', 'parking'])"
   ]
  },
  {
   "cell_type": "code",
   "execution_count": null,
   "metadata": {
    "colab": {
     "base_uri": "https://localhost:8080/",
     "height": 833
    },
    "id": "mEkx0V9OAElH",
    "outputId": "185255e4-749e-46a5-f18b-c6ac8f489959",
    "pycharm": {
     "name": "#%%\n"
    }
   },
   "outputs": [
    {
     "data": {
      "text/html": [
       "\n",
       "  <div id=\"df-21a8a98c-64b8-4906-aa1e-399fa7a6b389\">\n",
       "    <div class=\"colab-df-container\">\n",
       "      <div>\n",
       "<style scoped>\n",
       "    .dataframe tbody tr th:only-of-type {\n",
       "        vertical-align: middle;\n",
       "    }\n",
       "\n",
       "    .dataframe tbody tr th {\n",
       "        vertical-align: top;\n",
       "    }\n",
       "\n",
       "    .dataframe thead th {\n",
       "        text-align: right;\n",
       "    }\n",
       "</style>\n",
       "<table border=\"1\" class=\"dataframe\">\n",
       "  <thead>\n",
       "    <tr style=\"text-align: right;\">\n",
       "      <th></th>\n",
       "      <th>rent</th>\n",
       "      <th>beds</th>\n",
       "      <th>baths</th>\n",
       "      <th>lat</th>\n",
       "      <th>lon</th>\n",
       "      <th>dogs</th>\n",
       "      <th>cats</th>\n",
       "      <th>laundry</th>\n",
       "    </tr>\n",
       "  </thead>\n",
       "  <tbody>\n",
       "    <tr>\n",
       "      <th>0</th>\n",
       "      <td>0.000000</td>\n",
       "      <td>0.00</td>\n",
       "      <td>0.5</td>\n",
       "      <td>42.000875</td>\n",
       "      <td>-87.662074</td>\n",
       "      <td>0</td>\n",
       "      <td>1</td>\n",
       "      <td>1.0</td>\n",
       "    </tr>\n",
       "    <tr>\n",
       "      <th>1</th>\n",
       "      <td>0.125000</td>\n",
       "      <td>0.00</td>\n",
       "      <td>0.5</td>\n",
       "      <td>41.930603</td>\n",
       "      <td>-87.640901</td>\n",
       "      <td>0</td>\n",
       "      <td>1</td>\n",
       "      <td>1.0</td>\n",
       "    </tr>\n",
       "    <tr>\n",
       "      <th>2</th>\n",
       "      <td>0.304688</td>\n",
       "      <td>0.00</td>\n",
       "      <td>0.5</td>\n",
       "      <td>41.743400</td>\n",
       "      <td>-87.980500</td>\n",
       "      <td>1</td>\n",
       "      <td>1</td>\n",
       "      <td>1.0</td>\n",
       "    </tr>\n",
       "    <tr>\n",
       "      <th>3</th>\n",
       "      <td>0.742188</td>\n",
       "      <td>1.00</td>\n",
       "      <td>1.0</td>\n",
       "      <td>41.928719</td>\n",
       "      <td>-87.646093</td>\n",
       "      <td>0</td>\n",
       "      <td>0</td>\n",
       "      <td>0.0</td>\n",
       "    </tr>\n",
       "    <tr>\n",
       "      <th>4</th>\n",
       "      <td>0.146875</td>\n",
       "      <td>0.25</td>\n",
       "      <td>0.5</td>\n",
       "      <td>41.913120</td>\n",
       "      <td>-87.702463</td>\n",
       "      <td>0</td>\n",
       "      <td>1</td>\n",
       "      <td>1.0</td>\n",
       "    </tr>\n",
       "    <tr>\n",
       "      <th>5</th>\n",
       "      <td>0.459375</td>\n",
       "      <td>0.25</td>\n",
       "      <td>0.5</td>\n",
       "      <td>41.893832</td>\n",
       "      <td>-87.641509</td>\n",
       "      <td>0</td>\n",
       "      <td>0</td>\n",
       "      <td>0.0</td>\n",
       "    </tr>\n",
       "    <tr>\n",
       "      <th>6</th>\n",
       "      <td>0.507812</td>\n",
       "      <td>0.75</td>\n",
       "      <td>0.5</td>\n",
       "      <td>41.798852</td>\n",
       "      <td>-87.596749</td>\n",
       "      <td>1</td>\n",
       "      <td>1</td>\n",
       "      <td>1.0</td>\n",
       "    </tr>\n",
       "    <tr>\n",
       "      <th>7</th>\n",
       "      <td>0.304688</td>\n",
       "      <td>0.00</td>\n",
       "      <td>0.5</td>\n",
       "      <td>41.743400</td>\n",
       "      <td>-87.980500</td>\n",
       "      <td>1</td>\n",
       "      <td>1</td>\n",
       "      <td>1.0</td>\n",
       "    </tr>\n",
       "    <tr>\n",
       "      <th>8</th>\n",
       "      <td>0.242188</td>\n",
       "      <td>0.50</td>\n",
       "      <td>1.0</td>\n",
       "      <td>41.848532</td>\n",
       "      <td>-87.678153</td>\n",
       "      <td>1</td>\n",
       "      <td>1</td>\n",
       "      <td>0.0</td>\n",
       "    </tr>\n",
       "    <tr>\n",
       "      <th>9</th>\n",
       "      <td>0.359375</td>\n",
       "      <td>0.50</td>\n",
       "      <td>0.5</td>\n",
       "      <td>41.971900</td>\n",
       "      <td>-87.662400</td>\n",
       "      <td>0</td>\n",
       "      <td>1</td>\n",
       "      <td>0.0</td>\n",
       "    </tr>\n",
       "    <tr>\n",
       "      <th>10</th>\n",
       "      <td>0.273438</td>\n",
       "      <td>0.25</td>\n",
       "      <td>0.5</td>\n",
       "      <td>41.982131</td>\n",
       "      <td>-87.655356</td>\n",
       "      <td>0</td>\n",
       "      <td>0</td>\n",
       "      <td>1.0</td>\n",
       "    </tr>\n",
       "    <tr>\n",
       "      <th>11</th>\n",
       "      <td>0.062500</td>\n",
       "      <td>0.00</td>\n",
       "      <td>0.5</td>\n",
       "      <td>41.885831</td>\n",
       "      <td>-87.800991</td>\n",
       "      <td>0</td>\n",
       "      <td>1</td>\n",
       "      <td>1.0</td>\n",
       "    </tr>\n",
       "    <tr>\n",
       "      <th>12</th>\n",
       "      <td>0.039062</td>\n",
       "      <td>0.00</td>\n",
       "      <td>0.5</td>\n",
       "      <td>42.009231</td>\n",
       "      <td>-87.660856</td>\n",
       "      <td>1</td>\n",
       "      <td>1</td>\n",
       "      <td>1.0</td>\n",
       "    </tr>\n",
       "    <tr>\n",
       "      <th>13</th>\n",
       "      <td>0.262500</td>\n",
       "      <td>0.25</td>\n",
       "      <td>0.5</td>\n",
       "      <td>41.892300</td>\n",
       "      <td>-87.637300</td>\n",
       "      <td>0</td>\n",
       "      <td>1</td>\n",
       "      <td>1.0</td>\n",
       "    </tr>\n",
       "    <tr>\n",
       "      <th>14</th>\n",
       "      <td>0.039062</td>\n",
       "      <td>0.00</td>\n",
       "      <td>0.5</td>\n",
       "      <td>42.009231</td>\n",
       "      <td>-87.662457</td>\n",
       "      <td>1</td>\n",
       "      <td>1</td>\n",
       "      <td>1.0</td>\n",
       "    </tr>\n",
       "    <tr>\n",
       "      <th>15</th>\n",
       "      <td>0.098437</td>\n",
       "      <td>0.00</td>\n",
       "      <td>0.5</td>\n",
       "      <td>42.047038</td>\n",
       "      <td>-87.685505</td>\n",
       "      <td>0</td>\n",
       "      <td>1</td>\n",
       "      <td>1.0</td>\n",
       "    </tr>\n",
       "    <tr>\n",
       "      <th>16</th>\n",
       "      <td>0.164062</td>\n",
       "      <td>0.25</td>\n",
       "      <td>0.5</td>\n",
       "      <td>41.936332</td>\n",
       "      <td>-87.654154</td>\n",
       "      <td>0</td>\n",
       "      <td>0</td>\n",
       "      <td>0.0</td>\n",
       "    </tr>\n",
       "    <tr>\n",
       "      <th>17</th>\n",
       "      <td>0.054688</td>\n",
       "      <td>0.00</td>\n",
       "      <td>0.5</td>\n",
       "      <td>42.034500</td>\n",
       "      <td>-87.754100</td>\n",
       "      <td>0</td>\n",
       "      <td>0</td>\n",
       "      <td>1.0</td>\n",
       "    </tr>\n",
       "    <tr>\n",
       "      <th>18</th>\n",
       "      <td>0.031250</td>\n",
       "      <td>0.25</td>\n",
       "      <td>0.5</td>\n",
       "      <td>42.019231</td>\n",
       "      <td>-87.666357</td>\n",
       "      <td>1</td>\n",
       "      <td>1</td>\n",
       "      <td>1.0</td>\n",
       "    </tr>\n",
       "    <tr>\n",
       "      <th>19</th>\n",
       "      <td>0.148438</td>\n",
       "      <td>0.25</td>\n",
       "      <td>1.0</td>\n",
       "      <td>41.976730</td>\n",
       "      <td>-87.844484</td>\n",
       "      <td>0</td>\n",
       "      <td>0</td>\n",
       "      <td>0.0</td>\n",
       "    </tr>\n",
       "    <tr>\n",
       "      <th>20</th>\n",
       "      <td>0.156250</td>\n",
       "      <td>0.25</td>\n",
       "      <td>0.5</td>\n",
       "      <td>41.888631</td>\n",
       "      <td>-87.804958</td>\n",
       "      <td>1</td>\n",
       "      <td>1</td>\n",
       "      <td>1.0</td>\n",
       "    </tr>\n",
       "    <tr>\n",
       "      <th>21</th>\n",
       "      <td>0.271875</td>\n",
       "      <td>0.25</td>\n",
       "      <td>0.5</td>\n",
       "      <td>41.945160</td>\n",
       "      <td>-87.656543</td>\n",
       "      <td>1</td>\n",
       "      <td>1</td>\n",
       "      <td>0.0</td>\n",
       "    </tr>\n",
       "    <tr>\n",
       "      <th>22</th>\n",
       "      <td>0.360938</td>\n",
       "      <td>0.25</td>\n",
       "      <td>0.5</td>\n",
       "      <td>41.872100</td>\n",
       "      <td>-87.657800</td>\n",
       "      <td>1</td>\n",
       "      <td>1</td>\n",
       "      <td>0.0</td>\n",
       "    </tr>\n",
       "    <tr>\n",
       "      <th>23</th>\n",
       "      <td>0.414062</td>\n",
       "      <td>0.25</td>\n",
       "      <td>0.5</td>\n",
       "      <td>41.897100</td>\n",
       "      <td>-87.622300</td>\n",
       "      <td>1</td>\n",
       "      <td>1</td>\n",
       "      <td>0.0</td>\n",
       "    </tr>\n",
       "    <tr>\n",
       "      <th>24</th>\n",
       "      <td>0.414062</td>\n",
       "      <td>0.25</td>\n",
       "      <td>0.5</td>\n",
       "      <td>41.933242</td>\n",
       "      <td>-87.647925</td>\n",
       "      <td>1</td>\n",
       "      <td>1</td>\n",
       "      <td>1.0</td>\n",
       "    </tr>\n",
       "  </tbody>\n",
       "</table>\n",
       "</div>\n",
       "      <button class=\"colab-df-convert\" onclick=\"convertToInteractive('df-21a8a98c-64b8-4906-aa1e-399fa7a6b389')\"\n",
       "              title=\"Convert this dataframe to an interactive table.\"\n",
       "              style=\"display:none;\">\n",
       "        \n",
       "  <svg xmlns=\"http://www.w3.org/2000/svg\" height=\"24px\"viewBox=\"0 0 24 24\"\n",
       "       width=\"24px\">\n",
       "    <path d=\"M0 0h24v24H0V0z\" fill=\"none\"/>\n",
       "    <path d=\"M18.56 5.44l.94 2.06.94-2.06 2.06-.94-2.06-.94-.94-2.06-.94 2.06-2.06.94zm-11 1L8.5 8.5l.94-2.06 2.06-.94-2.06-.94L8.5 2.5l-.94 2.06-2.06.94zm10 10l.94 2.06.94-2.06 2.06-.94-2.06-.94-.94-2.06-.94 2.06-2.06.94z\"/><path d=\"M17.41 7.96l-1.37-1.37c-.4-.4-.92-.59-1.43-.59-.52 0-1.04.2-1.43.59L10.3 9.45l-7.72 7.72c-.78.78-.78 2.05 0 2.83L4 21.41c.39.39.9.59 1.41.59.51 0 1.02-.2 1.41-.59l7.78-7.78 2.81-2.81c.8-.78.8-2.07 0-2.86zM5.41 20L4 18.59l7.72-7.72 1.47 1.35L5.41 20z\"/>\n",
       "  </svg>\n",
       "      </button>\n",
       "      \n",
       "  <style>\n",
       "    .colab-df-container {\n",
       "      display:flex;\n",
       "      flex-wrap:wrap;\n",
       "      gap: 12px;\n",
       "    }\n",
       "\n",
       "    .colab-df-convert {\n",
       "      background-color: #E8F0FE;\n",
       "      border: none;\n",
       "      border-radius: 50%;\n",
       "      cursor: pointer;\n",
       "      display: none;\n",
       "      fill: #1967D2;\n",
       "      height: 32px;\n",
       "      padding: 0 0 0 0;\n",
       "      width: 32px;\n",
       "    }\n",
       "\n",
       "    .colab-df-convert:hover {\n",
       "      background-color: #E2EBFA;\n",
       "      box-shadow: 0px 1px 2px rgba(60, 64, 67, 0.3), 0px 1px 3px 1px rgba(60, 64, 67, 0.15);\n",
       "      fill: #174EA6;\n",
       "    }\n",
       "\n",
       "    [theme=dark] .colab-df-convert {\n",
       "      background-color: #3B4455;\n",
       "      fill: #D2E3FC;\n",
       "    }\n",
       "\n",
       "    [theme=dark] .colab-df-convert:hover {\n",
       "      background-color: #434B5C;\n",
       "      box-shadow: 0px 1px 3px 1px rgba(0, 0, 0, 0.15);\n",
       "      filter: drop-shadow(0px 1px 2px rgba(0, 0, 0, 0.3));\n",
       "      fill: #FFFFFF;\n",
       "    }\n",
       "  </style>\n",
       "\n",
       "      <script>\n",
       "        const buttonEl =\n",
       "          document.querySelector('#df-21a8a98c-64b8-4906-aa1e-399fa7a6b389 button.colab-df-convert');\n",
       "        buttonEl.style.display =\n",
       "          google.colab.kernel.accessAllowed ? 'block' : 'none';\n",
       "\n",
       "        async function convertToInteractive(key) {\n",
       "          const element = document.querySelector('#df-21a8a98c-64b8-4906-aa1e-399fa7a6b389');\n",
       "          const dataTable =\n",
       "            await google.colab.kernel.invokeFunction('convertToInteractive',\n",
       "                                                     [key], {});\n",
       "          if (!dataTable) return;\n",
       "\n",
       "          const docLinkHtml = 'Like what you see? Visit the ' +\n",
       "            '<a target=\"_blank\" href=https://colab.research.google.com/notebooks/data_table.ipynb>data table notebook</a>'\n",
       "            + ' to learn more about interactive tables.';\n",
       "          element.innerHTML = '';\n",
       "          dataTable['output_type'] = 'display_data';\n",
       "          await google.colab.output.renderOutput(dataTable, element);\n",
       "          const docLink = document.createElement('div');\n",
       "          docLink.innerHTML = docLinkHtml;\n",
       "          element.appendChild(docLink);\n",
       "        }\n",
       "      </script>\n",
       "    </div>\n",
       "  </div>\n",
       "  "
      ],
      "text/plain": [
       "        rent  beds  baths        lat        lon  dogs  cats  laundry\n",
       "0   0.000000  0.00    0.5  42.000875 -87.662074     0     1      1.0\n",
       "1   0.125000  0.00    0.5  41.930603 -87.640901     0     1      1.0\n",
       "2   0.304688  0.00    0.5  41.743400 -87.980500     1     1      1.0\n",
       "3   0.742188  1.00    1.0  41.928719 -87.646093     0     0      0.0\n",
       "4   0.146875  0.25    0.5  41.913120 -87.702463     0     1      1.0\n",
       "5   0.459375  0.25    0.5  41.893832 -87.641509     0     0      0.0\n",
       "6   0.507812  0.75    0.5  41.798852 -87.596749     1     1      1.0\n",
       "7   0.304688  0.00    0.5  41.743400 -87.980500     1     1      1.0\n",
       "8   0.242188  0.50    1.0  41.848532 -87.678153     1     1      0.0\n",
       "9   0.359375  0.50    0.5  41.971900 -87.662400     0     1      0.0\n",
       "10  0.273438  0.25    0.5  41.982131 -87.655356     0     0      1.0\n",
       "11  0.062500  0.00    0.5  41.885831 -87.800991     0     1      1.0\n",
       "12  0.039062  0.00    0.5  42.009231 -87.660856     1     1      1.0\n",
       "13  0.262500  0.25    0.5  41.892300 -87.637300     0     1      1.0\n",
       "14  0.039062  0.00    0.5  42.009231 -87.662457     1     1      1.0\n",
       "15  0.098437  0.00    0.5  42.047038 -87.685505     0     1      1.0\n",
       "16  0.164062  0.25    0.5  41.936332 -87.654154     0     0      0.0\n",
       "17  0.054688  0.00    0.5  42.034500 -87.754100     0     0      1.0\n",
       "18  0.031250  0.25    0.5  42.019231 -87.666357     1     1      1.0\n",
       "19  0.148438  0.25    1.0  41.976730 -87.844484     0     0      0.0\n",
       "20  0.156250  0.25    0.5  41.888631 -87.804958     1     1      1.0\n",
       "21  0.271875  0.25    0.5  41.945160 -87.656543     1     1      0.0\n",
       "22  0.360938  0.25    0.5  41.872100 -87.657800     1     1      0.0\n",
       "23  0.414062  0.25    0.5  41.897100 -87.622300     1     1      0.0\n",
       "24  0.414062  0.25    0.5  41.933242 -87.647925     1     1      1.0"
      ]
     },
     "execution_count": 206,
     "metadata": {},
     "output_type": "execute_result"
    }
   ],
   "source": [
    "dummy"
   ]
  },
  {
   "cell_type": "code",
   "execution_count": null,
   "metadata": {
    "colab": {
     "base_uri": "https://localhost:8080/",
     "height": 286
    },
    "id": "SgZd0kNg5r9m",
    "outputId": "527597c7-bef8-4eb6-92c6-e342297d6af8",
    "pycharm": {
     "name": "#%%\n"
    }
   },
   "outputs": [
    {
     "data": {
      "text/plain": [
       "<matplotlib.axes._subplots.AxesSubplot at 0x7f9f82af78d0>"
      ]
     },
     "execution_count": 207,
     "metadata": {},
     "output_type": "execute_result"
    },
    {
     "data": {
      "image/png": "[encoded data removed]",
      "text/plain": [
       "<Figure size 432x288 with 2 Axes>"
      ]
     },
     "metadata": {
      "needs_background": "light"
     },
     "output_type": "display_data"
    }
   ],
   "source": [
    "import seaborn as sns\n",
    "sns.heatmap(dummy.corr(), annot=True)"
   ]
  },
  {
   "cell_type": "code",
   "execution_count": null,
   "metadata": {
    "colab": {
     "base_uri": "https://localhost:8080/",
     "height": 1000
    },
    "id": "Ipi8NZDHXnYE",
    "outputId": "f531ea2b-89f7-4427-f861-7bee8e8748a7",
    "pycharm": {
     "name": "#%%\n"
    }
   },
   "outputs": [
    {
     "data": {
      "text/plain": [
       "<matplotlib.axes._subplots.AxesSubplot at 0x7f9f80fa6b10>"
      ]
     },
     "execution_count": 208,
     "metadata": {},
     "output_type": "execute_result"
    },
    {
     "data": {
      "image/png": "[encoded data removed]",
      "text/plain": [
       "<Figure size 1080x1080 with 4 Axes>"
      ]
     },
     "metadata": {
      "needs_background": "light"
     },
     "output_type": "display_data"
    },
    {
     "data": {
      "image/png": "[encoded data removed]",
      "text/plain": [
       "<Figure size 432x432 with 3 Axes>"
      ]
     },
     "metadata": {
      "needs_background": "light"
     },
     "output_type": "display_data"
    }
   ],
   "source": [
    "import seaborn as sns\n",
    "import matplotlib.pyplot as plt\n",
    " \n",
    "fig, axes = plt.subplots(2,2 , figsize=(15, 15))\n",
    "sns.histplot(ax=axes[0,0], data=df['rent'], binwidth=500)\n",
    "sns.violinplot(ax=axes[0,1], x=df[\"beds\"], y=df[\"rent\"])\n",
    "sns.jointplot(ax=axes[1,0], x=df[df['sqft']>0]['sqft'], y=df[df['sqft']>0]['rent'], hue=df['beds'])\n",
    "sns.regplot(ax=axes[1,1], x=df[df['sqft']>0]['sqft'], y=df[df['sqft']>0]['rent'])"
   ]
  },
  {
   "cell_type": "code",
   "execution_count": null,
   "metadata": {
    "colab": {
     "base_uri": "https://localhost:8080/"
    },
    "id": "0E8jjfGMhpnm",
    "outputId": "5db1a118-4329-47bf-e4cb-c2dfbdf81c56",
    "pycharm": {
     "name": "#%%\n"
    }
   },
   "outputs": [
    {
     "name": "stdout",
     "output_type": "stream",
     "text": [
      "3511.8673264992976\n"
     ]
    }
   ],
   "source": [
    "from scipy.stats import linregress\n",
    "slope, intercept, r, p, se = linregress(x=df[df['sqft']>0]['sqft'], y=df[df['sqft']>0]['rent'])\n",
    "print(slope*2100+intercept)"
   ]
  },
  {
   "cell_type": "code",
   "execution_count": null,
   "metadata": {
    "id": "IPIIn-RAXP3f",
    "pycharm": {
     "name": "#%%\n"
    }
   },
   "outputs": [],
   "source": []
  },
  {
   "cell_type": "markdown",
   "metadata": {
    "id": "kyu9514fcm8r",
    "pycharm": {
     "name": "#%% md\n"
    }
   },
   "source": []
  },
  {
   "cell_type": "code",
   "execution_count": null,
   "metadata": {
    "id": "SzNlPMEavaN5",
    "pycharm": {
     "name": "#%%\n"
    }
   },
   "outputs": [],
   "source": [
    "\n",
    "#For scraping historical data:\n",
    "\n",
    "for i in links:\n",
    "\tsoup = BeautifulSoup(requests.get(i).content, 'html.parser')\n",
    "\tdate_plus = str(soup).split(\"web/\",1)[1].split(\"/http\",1)[0]\n",
    "\thistoric_scrape(0,soup,date_plus)\n",
    "\tprint(\"***** Link\" + str(i) + \"completed *****\")\n",
    "\n",
    "def get_links(years=[\"2020\", \"2021\", \"2022\"]):\n",
    "\n",
    "  # List the years you'll loop over\n",
    "  years = [\"2020\", \"2021\", \"2022\"]\n",
    "  # And instantiate a list we'll put links in\n",
    "  linklist = []\n",
    "\n",
    "  for y in years:\n",
    "    try:\n",
    "      calpage = \"https://web.archive.org/web/\" + str(y) + \"0101000000*/http://www.chicago.craigslist.org/search/apa\"\n",
    "      browser.get(calpage)  # doing this twice ensures that it loads correctly\n",
    "      browser.get(calpage)\n",
    "      time.sleep(1)\n",
    "      try:\n",
    "        cal = browser.find_elements(by=By.CLASS_NAME, value='calendar-day')\n",
    "      except:\n",
    "        time.sleep(3) # sometimes the browser loads slowly--just try again\n",
    "        cal = browser.find_elements(by=By.CLASS_NAME, value='calendar-day')\n",
    "      for c in cal:\n",
    "        html = c.get_attribute(\"innerHTML\") # get the calendar's html content\n",
    "        soup = BeautifulSoup(html, 'html.parser') # turn it into a soup\n",
    "        link = str(soup.a) # the name of the chunk containing links\n",
    "        url = \"https://web.archive.org\" + link.split('\"', 1)[1].split('\"',1)[0]\n",
    "        if url not in linklist: # if we don't already have it, add it to the list\n",
    "          linklist.append(url)\n",
    "    except:  # if a page does not exist, continue to the next one\n",
    "      continue\n",
    "  return(linklist)\n",
    "\n",
    "links = get_links()\n",
    "links.append(\"https://chicago.craigslist.org/search/apa\") #Add current day's listings"
   ]
  },
  {
   "cell_type": "markdown",
   "metadata": {
    "id": "kLYzMWv6Kkhc",
    "pycharm": {
     "name": "#%% md\n"
    }
   },
   "source": [
    "start_url = 'https://chicago.craigslist.org/search/apa'\n",
    "pages = -1\n",
    "\n",
    "results = {}\n",
    "if pages == -1:\n",
    "  end = 2880\n",
    "else:\n",
    "  end = pages*120\n",
    "\n",
    "for n in range(0, end, 120):\n",
    "    if True: #hasnextpage():\n",
    "      if n>0:\n",
    "        browser.get((start_url+'?s='+str(n)))\n",
    "      else:\n",
    "        browser.get(start_url)\n",
    "\n",
    "      #Debug: \n",
    "      pagestart = BeautifulSoup(browser.page_source).find('span', class_='rangeFrom').text\n",
    "      pageend = BeautifulSoup(browser.page_source).find('span', class_='rangeTo').text\n",
    "      print(\"Processing: \"+pagestart+\" through \" + pageend)\n",
    "      #####\n",
    "\n",
    "      listings = browser.find_elements(by=By.CLASS_NAME, value='result-info')\n",
    "      for l in listings:\n",
    "        html = l.get_attribute('innerHTML')\n",
    "        attributes = get_listing_attributes(html)\n",
    "        results.update(attributes)\n",
    "    else:\n",
    "      break\n",
    "\n",
    "len(listings)\n",
    "pd.DataFrame(results)"
   ]
  }
 ],
 "metadata": {
  "colab": {
   "collapsed_sections": [],
   "name": "Son of CLScraper.ipynb",
   "provenance": []
  },
  "kernelspec": {
   "display_name": "Python 3",
   "language": "python",
   "name": "python3"
  },
  "language_info": {
   "codemirror_mode": {
    "name": "ipython",
    "version": 3
   },
   "file_extension": ".py",
   "mimetype": "text/x-python",
   "name": "python",
   "nbconvert_exporter": "python",
   "pygments_lexer": "ipython3",
   "version": "3.8.5"
  }
 },
 "nbformat": 4,
 "nbformat_minor": 1
}
