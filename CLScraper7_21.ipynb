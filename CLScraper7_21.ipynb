{
  "cells": [
    {
      "cell_type": "markdown",
      "metadata": {
        "id": "view-in-github",
        "colab_type": "text"
      },
      "source": [
        "<a href=\"https://colab.research.google.com/github/gbwiersum/CLApartmentScraper/blob/main/CLScraper7_21.ipynb\" target=\"_parent\"><img src=\"https://colab.research.google.com/assets/colab-badge.svg\" alt=\"Open In Colab\"/></a>"
      ]
    },
    {
      "cell_type": "markdown",
      "metadata": {
        "id": "InBNrici2lZT"
      },
      "source": [
        "from google.colab import drive\n",
        "drive.mount('/content/drive')"
      ]
    },
    {
      "cell_type": "markdown",
      "metadata": {
        "id": "TZd5PVQq8NeI"
      },
      "source": [
        "# Defining methods:\n",
        "#building the scraping engine. \n",
        "\n",
        "\n",
        "1.   Gets each page of listings\n",
        "2.   For each page of listings, gets attributes and headline descriptions, sqft, rent and a url for the posting.\n",
        "3. For each url, opens and scrapes all information.\n",
        "\n"
      ]
    },
    {
      "cell_type": "code",
      "execution_count": 2,
      "metadata": {
        "id": "vOziAQfY6aBk"
      },
      "outputs": [],
      "source": [
        "#!apt update\n",
        "#!apt upgrade\n",
        "!pip install selenium -q\n",
        "!apt install chromium-chromedriver -y -q\n",
        "import requests\n",
        "from bs4 import BeautifulSoup\n",
        "import os\n",
        "import pandas as pd\n",
        "import selenium\n",
        "from selenium import webdriver\n",
        "from selenium.webdriver.common.by import By\n",
        "import time\n",
        "import datetime\n",
        "import pandas as pd\n",
        "import re\n",
        "\n",
        "#Listing object holds all information relevant to the post. Non normalized, Has redundancy.\n",
        "\n",
        "class Listing:\n",
        "\n",
        "  def __init__(self, url):\n",
        "    self.url = url\n",
        "    browser = start_browser()\n",
        "    browser.get(url)\n",
        "    self.ID = _xml_getter(url, before = \"/\", after=\".html\")[-10::]\n",
        "\n",
        "    try:\n",
        "      self.html = BeautifulSoup(browser.page_source)\n",
        "    except:\n",
        "      try:\n",
        "        time.sleep(1)\n",
        "        browser.get(url)\n",
        "        time.sleep(1)\n",
        "        self.html=BeautifulSoup(browser.page_source)\n",
        "      except:\n",
        "        pass\n",
        "\n",
        "    def parse_attributes(self):\n",
        "\n",
        "\n",
        "      def get_price(self):\n",
        "        try:\n",
        "          price = self.html.find('span', class_='price').text\n",
        "          price = re.sub(r'[^\\d.]', '', str(price))\n",
        "          return(int(price))\n",
        "        except:\n",
        "          return(None)\n",
        "        \n",
        "\n",
        "      def get_beds(self):\n",
        "        housing = self.html.find(\"span\", class_='housing')\n",
        "        if housing is not None:\n",
        "          beds = _xml_getter(housing.text.lower(), before=' ', after=\"br\")\n",
        "        else:\n",
        "          beds = 0\n",
        "        return(beds)\n",
        "\n",
        "      def get_sqft(self):\n",
        "        housing = self.html.find('span', class_='housing')\n",
        "        if housing is not None:\n",
        "          sqft =_xml_getter(housing.text.lower(), before=' - ', after=\"ft2\")\n",
        "          if sqft is not None:\n",
        "            sqft = int(sqft)\n",
        "          else: sqft = None\n",
        "        else: sqft = None\n",
        "        return(sqft)\n",
        "\n",
        "      def get_park(self):\n",
        "        park = _xml_getter(self.html, before='>', after=\"parking\")\n",
        "        return(park)\n",
        "\n",
        "      def get_baths(self):\n",
        "        bedbath = self.html.find('span', class_='shared-line-bubble')\n",
        "        if bedbath is not None:\n",
        "          baths = _xml_getter(bedbath.text.lower(), before=\"/ \", after='ba')\n",
        "          return(baths)\n",
        "        else: return None\n",
        "\n",
        "      def get_body(self):\n",
        "        body = self.html.find('section', id='postingbody')\n",
        "        if body is not None:\n",
        "          body = body.text\n",
        "          body = body.replace(\"\\n\\nQR Code Link to This Post\\n\\n\\n\", \"\")\n",
        "          body = body.replace(\"\\n\", \" \")\n",
        "          return(body)\n",
        "        else: return \" \"\n",
        "\n",
        "      def get_address(self):\n",
        "        address = self.html.find('div', class_='mapaddress')\n",
        "        if address is not None:\n",
        "          location = address.text\n",
        "        else: location = None\n",
        "        return(location)\n",
        "\n",
        "      def get_lat_lon(self):\n",
        "        try:  \n",
        "          lat = self.html.find('div', id='map').get('data-latitude')\n",
        "          lon = self.html.find('div', id='map').get('data-longitude')\n",
        "          lat = float(lat)\n",
        "          lon = float(lon)\n",
        "        except:\n",
        "          lat=None\n",
        "          lon=None\n",
        "\n",
        "        return(lat, lon)\n",
        "\n",
        "      def get_attrgroup(self):\n",
        "        attrgroup = self.html.find('div', class_='mapAndAttrs')\n",
        "        attrlist = ['cats are OK - purrr', 'dogs are OK - wooof', 'air conditioning', \n",
        "        'furnished', 'w/d in unit', 'laundry on site', 'laundry in bldg', \n",
        "        'no laundry on site', 'no parking', 'street parking', 'off-street parking', \n",
        "        'detached garage']\n",
        "        if attrgroup is not None:\n",
        "          attrgroup.find_all('p', class_='attrgroup')[1]\n",
        "          attrgroup = set(attrgroup.text.split(\"\\n\"))\n",
        "          attrvals = []\n",
        "          for attr in attrlist:\n",
        "            if attr in attrgroup:\n",
        "              attrvals.append(1)\n",
        "            else:\n",
        "              attrvals.append(0)\n",
        "\n",
        "          return(attrvals)\n",
        "        else: return [0]*(len(attrlist))\n",
        "\n",
        "\n",
        "      def get_date(self):\n",
        "        return _xml_getter(self.html.find('time'), before='title=\"', after = '\"')\n",
        "\n",
        "      self.price = get_price(self)  \n",
        "      self.beds = get_beds(self)\n",
        "      self.sqft = get_sqft(self)\n",
        "      self.park = get_park(self)\n",
        "      self.baths = get_baths(self)\n",
        "      self.body = get_body(self)\n",
        "      self.address = get_address(self)\n",
        "      self.lat, self.lon = get_lat_lon(self)\n",
        "      self.attrgroup = get_attrgroup(self)\n",
        "      self.date = get_date(self)\n",
        "\n",
        "    parse_attributes(self)\n",
        "\n",
        "  def get_attribute_dict(self):\n",
        "    attrs = [self.url, self.price, self.beds, self.sqft, self.park, self.baths, \n",
        "     self.body, self.address, self.lat, self.lon, self.date]+self.attrgroup\n",
        "    attrdict = {self.ID: attrs}\n",
        "    return attrdict\n",
        "\n",
        "\n",
        "\n",
        "def start_browser():\n",
        "  chrome_options = webdriver.ChromeOptions()\n",
        "  chrome_options.add_argument('--headless')\n",
        "  chrome_options.add_argument('--no-sandbox')\n",
        "  #chrome_options.add_argument('--disable-dev-shm-usage')\n",
        "  browser = webdriver.Chrome('chromedriver', options=chrome_options)\n",
        "  browser.set_window_size(48, 32)\n",
        "  return(browser)\n",
        "\n",
        "#utility to pull variables out of xml data using leading and following tag.\n",
        "#I refusue to learn regex and this is my workaround for that.\n",
        "def _xml_getter(text, before=\"\", after=\"\"):\n",
        "  if text is not None:\n",
        "    text = str(text)\n",
        "    m = re.search(before+'(.+?)'+after, text)\n",
        "    if m:\n",
        "        found = m.group(1).strip()\n",
        "        return(found)\n",
        "  else: return None\n",
        "\n",
        "  #Gets all listings for a given search query. If I had a main, this would be it.\n",
        "#Pages come in batches of 120. Pass \"-1\" to pages for all.\n",
        "def get_listings(start_url, pages=-1, cooldown=0):\n",
        "  try:\n",
        "    browser = start_browser()\n",
        "    results = {}\n",
        "    if pages == -1:\n",
        "      try:\n",
        "        browser.get(start_url)\n",
        "        end = int(BeautifulSoup(browser.page_source).find('span', class_='totalcount').text)\n",
        "      except:\n",
        "        end = 2880\n",
        "    else:\n",
        "      end = pages*120\n",
        "\n",
        "    for n in range(0, end, 120):\n",
        "        if n>0:\n",
        "          browser.get((start_url+'&s='+str(n)))\n",
        "        else:\n",
        "          time.sleep(cooldown)\n",
        "          browser.get(start_url)\n",
        "\n",
        "        #Debug: \n",
        "        pagestart = BeautifulSoup(browser.page_source).find('span', class_='rangeFrom').text\n",
        "        pageend = BeautifulSoup(browser.page_source).find('span', class_='rangeTo').text\n",
        "        print(\"Processing: \"+pagestart+\" through \" + pageend)\n",
        "        #####\n",
        "\n",
        "        listings = browser.find_elements(by=By.CLASS_NAME, value='result-info')\n",
        "        for l in listings:\n",
        "          html = l.get_attribute('innerHTML')\n",
        "          #results.update(attributes)\n",
        "          url = BeautifulSoup(html).a.get('href')\n",
        "          results.update(Listing(url).get_attribute_dict())\n",
        "\n",
        "    return(results)\n",
        "  except:\n",
        "    return results"
      ]
    },
    {
      "cell_type": "code",
      "execution_count": 4,
      "metadata": {
        "colab": {
          "base_uri": "https://localhost:8080/",
          "height": 912
        },
        "id": "cJuOaRydotoe",
        "outputId": "5a9743ed-6b23-40ad-b399-22ef2ee8a87f"
      },
      "outputs": [
        {
          "output_type": "stream",
          "name": "stdout",
          "text": [
            "Processing: 1 through 120\n",
            "Processing: 121 through 240\n",
            "Processing: 241 through 259\n"
          ]
        },
        {
          "output_type": "execute_result",
          "data": {
            "text/plain": [
              "                                                          url  price  beds  \\\n",
              "7511599909  https://chicago.craigslist.org/chc/apa/d/chica...   1195  None   \n",
              "7511570375  https://chicago.craigslist.org/chc/apa/d/chica...    995     0   \n",
              "7511566852  https://chicago.craigslist.org/chc/apa/d/chica...    995     0   \n",
              "7511528323  https://chicago.craigslist.org/chc/apa/d/chica...   1200     2   \n",
              "7511527525  https://chicago.craigslist.org/chc/apa/d/chica...   2395     3   \n",
              "\n",
              "            sqft parking baths  \\\n",
              "7511599909   NaN  street     1   \n",
              "7511570375   NaN  street     1   \n",
              "7511566852   NaN  street     1   \n",
              "7511528323   NaN  street     1   \n",
              "7511527525   NaN  street     1   \n",
              "\n",
              "                                                     descript  \\\n",
              "7511599909    Great studio available!      Property Addres...   \n",
              "7511570375    Great studio available!     Property Address...   \n",
              "7511566852    Great studio available!     Property Address...   \n",
              "7511528323  The apartments 2701 N. Troy / 3120 W. Schubert...   \n",
              "7511527525  PROPERTY INFO ID: 275928130Rent: $2,395 / Mont...   \n",
              "\n",
              "                          adress        lat        lon  ...  \\\n",
              "7511599909  2330 n spaulding ave  41.923454 -87.710564  ...   \n",
              "7511570375  1742 n humboldt blvd  41.912579 -87.702736  ...   \n",
              "7511566852  1627 n humboldt blvd  41.910749 -87.701740  ...   \n",
              "7511528323       2701 N  Troy St  41.930156 -87.706107  ...   \n",
              "7511527525  2823 West Logan Blvd  41.928033 -87.698439  ...   \n",
              "\n",
              "           dogs are OK - wooof  air conditioning  furnished  w/d in unit  \\\n",
              "7511599909                   1                 0          0            0   \n",
              "7511570375                   0                 0          0            0   \n",
              "7511566852                   0                 0          0            0   \n",
              "7511528323                   0                 0          0            0   \n",
              "7511527525                   1                 0          0            0   \n",
              "\n",
              "            laundry on site  no laundry on site  no parking  \\\n",
              "7511599909                1                   0           1   \n",
              "7511570375                1                   0           1   \n",
              "7511566852                1                   0           1   \n",
              "7511528323                0                   1           1   \n",
              "7511527525                1                   0           1   \n",
              "\n",
              "            off-street parking  detached garage  dpsf  \n",
              "7511599909                   0                0   NaN  \n",
              "7511570375                   0                0   NaN  \n",
              "7511566852                   0                0   NaN  \n",
              "7511528323                   0                0   NaN  \n",
              "7511527525                   0                0   NaN  \n",
              "\n",
              "[5 rows x 22 columns]"
            ],
            "text/html": [
              "\n",
              "  <div id=\"df-0407ffc4-6d59-418a-b214-bb00a91fda42\">\n",
              "    <div class=\"colab-df-container\">\n",
              "      <div>\n",
              "<style scoped>\n",
              "    .dataframe tbody tr th:only-of-type {\n",
              "        vertical-align: middle;\n",
              "    }\n",
              "\n",
              "    .dataframe tbody tr th {\n",
              "        vertical-align: top;\n",
              "    }\n",
              "\n",
              "    .dataframe thead th {\n",
              "        text-align: right;\n",
              "    }\n",
              "</style>\n",
              "<table border=\"1\" class=\"dataframe\">\n",
              "  <thead>\n",
              "    <tr style=\"text-align: right;\">\n",
              "      <th></th>\n",
              "      <th>url</th>\n",
              "      <th>price</th>\n",
              "      <th>beds</th>\n",
              "      <th>sqft</th>\n",
              "      <th>parking</th>\n",
              "      <th>baths</th>\n",
              "      <th>descript</th>\n",
              "      <th>adress</th>\n",
              "      <th>lat</th>\n",
              "      <th>lon</th>\n",
              "      <th>...</th>\n",
              "      <th>dogs are OK - wooof</th>\n",
              "      <th>air conditioning</th>\n",
              "      <th>furnished</th>\n",
              "      <th>w/d in unit</th>\n",
              "      <th>laundry on site</th>\n",
              "      <th>no laundry on site</th>\n",
              "      <th>no parking</th>\n",
              "      <th>off-street parking</th>\n",
              "      <th>detached garage</th>\n",
              "      <th>dpsf</th>\n",
              "    </tr>\n",
              "  </thead>\n",
              "  <tbody>\n",
              "    <tr>\n",
              "      <th>7511599909</th>\n",
              "      <td>https://chicago.craigslist.org/chc/apa/d/chica...</td>\n",
              "      <td>1195</td>\n",
              "      <td>None</td>\n",
              "      <td>NaN</td>\n",
              "      <td>street</td>\n",
              "      <td>1</td>\n",
              "      <td>Great studio available!      Property Addres...</td>\n",
              "      <td>2330 n spaulding ave</td>\n",
              "      <td>41.923454</td>\n",
              "      <td>-87.710564</td>\n",
              "      <td>...</td>\n",
              "      <td>1</td>\n",
              "      <td>0</td>\n",
              "      <td>0</td>\n",
              "      <td>0</td>\n",
              "      <td>1</td>\n",
              "      <td>0</td>\n",
              "      <td>1</td>\n",
              "      <td>0</td>\n",
              "      <td>0</td>\n",
              "      <td>NaN</td>\n",
              "    </tr>\n",
              "    <tr>\n",
              "      <th>7511570375</th>\n",
              "      <td>https://chicago.craigslist.org/chc/apa/d/chica...</td>\n",
              "      <td>995</td>\n",
              "      <td>0</td>\n",
              "      <td>NaN</td>\n",
              "      <td>street</td>\n",
              "      <td>1</td>\n",
              "      <td>Great studio available!     Property Address...</td>\n",
              "      <td>1742 n humboldt blvd</td>\n",
              "      <td>41.912579</td>\n",
              "      <td>-87.702736</td>\n",
              "      <td>...</td>\n",
              "      <td>0</td>\n",
              "      <td>0</td>\n",
              "      <td>0</td>\n",
              "      <td>0</td>\n",
              "      <td>1</td>\n",
              "      <td>0</td>\n",
              "      <td>1</td>\n",
              "      <td>0</td>\n",
              "      <td>0</td>\n",
              "      <td>NaN</td>\n",
              "    </tr>\n",
              "    <tr>\n",
              "      <th>7511566852</th>\n",
              "      <td>https://chicago.craigslist.org/chc/apa/d/chica...</td>\n",
              "      <td>995</td>\n",
              "      <td>0</td>\n",
              "      <td>NaN</td>\n",
              "      <td>street</td>\n",
              "      <td>1</td>\n",
              "      <td>Great studio available!     Property Address...</td>\n",
              "      <td>1627 n humboldt blvd</td>\n",
              "      <td>41.910749</td>\n",
              "      <td>-87.701740</td>\n",
              "      <td>...</td>\n",
              "      <td>0</td>\n",
              "      <td>0</td>\n",
              "      <td>0</td>\n",
              "      <td>0</td>\n",
              "      <td>1</td>\n",
              "      <td>0</td>\n",
              "      <td>1</td>\n",
              "      <td>0</td>\n",
              "      <td>0</td>\n",
              "      <td>NaN</td>\n",
              "    </tr>\n",
              "    <tr>\n",
              "      <th>7511528323</th>\n",
              "      <td>https://chicago.craigslist.org/chc/apa/d/chica...</td>\n",
              "      <td>1200</td>\n",
              "      <td>2</td>\n",
              "      <td>NaN</td>\n",
              "      <td>street</td>\n",
              "      <td>1</td>\n",
              "      <td>The apartments 2701 N. Troy / 3120 W. Schubert...</td>\n",
              "      <td>2701 N  Troy St</td>\n",
              "      <td>41.930156</td>\n",
              "      <td>-87.706107</td>\n",
              "      <td>...</td>\n",
              "      <td>0</td>\n",
              "      <td>0</td>\n",
              "      <td>0</td>\n",
              "      <td>0</td>\n",
              "      <td>0</td>\n",
              "      <td>1</td>\n",
              "      <td>1</td>\n",
              "      <td>0</td>\n",
              "      <td>0</td>\n",
              "      <td>NaN</td>\n",
              "    </tr>\n",
              "    <tr>\n",
              "      <th>7511527525</th>\n",
              "      <td>https://chicago.craigslist.org/chc/apa/d/chica...</td>\n",
              "      <td>2395</td>\n",
              "      <td>3</td>\n",
              "      <td>NaN</td>\n",
              "      <td>street</td>\n",
              "      <td>1</td>\n",
              "      <td>PROPERTY INFO ID: 275928130Rent: $2,395 / Mont...</td>\n",
              "      <td>2823 West Logan Blvd</td>\n",
              "      <td>41.928033</td>\n",
              "      <td>-87.698439</td>\n",
              "      <td>...</td>\n",
              "      <td>1</td>\n",
              "      <td>0</td>\n",
              "      <td>0</td>\n",
              "      <td>0</td>\n",
              "      <td>1</td>\n",
              "      <td>0</td>\n",
              "      <td>1</td>\n",
              "      <td>0</td>\n",
              "      <td>0</td>\n",
              "      <td>NaN</td>\n",
              "    </tr>\n",
              "  </tbody>\n",
              "</table>\n",
              "<p>5 rows × 22 columns</p>\n",
              "</div>\n",
              "      <button class=\"colab-df-convert\" onclick=\"convertToInteractive('df-0407ffc4-6d59-418a-b214-bb00a91fda42')\"\n",
              "              title=\"Convert this dataframe to an interactive table.\"\n",
              "              style=\"display:none;\">\n",
              "        \n",
              "  <svg xmlns=\"http://www.w3.org/2000/svg\" height=\"24px\"viewBox=\"0 0 24 24\"\n",
              "       width=\"24px\">\n",
              "    <path d=\"M0 0h24v24H0V0z\" fill=\"none\"/>\n",
              "    <path d=\"M18.56 5.44l.94 2.06.94-2.06 2.06-.94-2.06-.94-.94-2.06-.94 2.06-2.06.94zm-11 1L8.5 8.5l.94-2.06 2.06-.94-2.06-.94L8.5 2.5l-.94 2.06-2.06.94zm10 10l.94 2.06.94-2.06 2.06-.94-2.06-.94-.94-2.06-.94 2.06-2.06.94z\"/><path d=\"M17.41 7.96l-1.37-1.37c-.4-.4-.92-.59-1.43-.59-.52 0-1.04.2-1.43.59L10.3 9.45l-7.72 7.72c-.78.78-.78 2.05 0 2.83L4 21.41c.39.39.9.59 1.41.59.51 0 1.02-.2 1.41-.59l7.78-7.78 2.81-2.81c.8-.78.8-2.07 0-2.86zM5.41 20L4 18.59l7.72-7.72 1.47 1.35L5.41 20z\"/>\n",
              "  </svg>\n",
              "      </button>\n",
              "      \n",
              "  <style>\n",
              "    .colab-df-container {\n",
              "      display:flex;\n",
              "      flex-wrap:wrap;\n",
              "      gap: 12px;\n",
              "    }\n",
              "\n",
              "    .colab-df-convert {\n",
              "      background-color: #E8F0FE;\n",
              "      border: none;\n",
              "      border-radius: 50%;\n",
              "      cursor: pointer;\n",
              "      display: none;\n",
              "      fill: #1967D2;\n",
              "      height: 32px;\n",
              "      padding: 0 0 0 0;\n",
              "      width: 32px;\n",
              "    }\n",
              "\n",
              "    .colab-df-convert:hover {\n",
              "      background-color: #E2EBFA;\n",
              "      box-shadow: 0px 1px 2px rgba(60, 64, 67, 0.3), 0px 1px 3px 1px rgba(60, 64, 67, 0.15);\n",
              "      fill: #174EA6;\n",
              "    }\n",
              "\n",
              "    [theme=dark] .colab-df-convert {\n",
              "      background-color: #3B4455;\n",
              "      fill: #D2E3FC;\n",
              "    }\n",
              "\n",
              "    [theme=dark] .colab-df-convert:hover {\n",
              "      background-color: #434B5C;\n",
              "      box-shadow: 0px 1px 3px 1px rgba(0, 0, 0, 0.15);\n",
              "      filter: drop-shadow(0px 1px 2px rgba(0, 0, 0, 0.3));\n",
              "      fill: #FFFFFF;\n",
              "    }\n",
              "  </style>\n",
              "\n",
              "      <script>\n",
              "        const buttonEl =\n",
              "          document.querySelector('#df-0407ffc4-6d59-418a-b214-bb00a91fda42 button.colab-df-convert');\n",
              "        buttonEl.style.display =\n",
              "          google.colab.kernel.accessAllowed ? 'block' : 'none';\n",
              "\n",
              "        async function convertToInteractive(key) {\n",
              "          const element = document.querySelector('#df-0407ffc4-6d59-418a-b214-bb00a91fda42');\n",
              "          const dataTable =\n",
              "            await google.colab.kernel.invokeFunction('convertToInteractive',\n",
              "                                                     [key], {});\n",
              "          if (!dataTable) return;\n",
              "\n",
              "          const docLinkHtml = 'Like what you see? Visit the ' +\n",
              "            '<a target=\"_blank\" href=https://colab.research.google.com/notebooks/data_table.ipynb>data table notebook</a>'\n",
              "            + ' to learn more about interactive tables.';\n",
              "          element.innerHTML = '';\n",
              "          dataTable['output_type'] = 'display_data';\n",
              "          await google.colab.output.renderOutput(dataTable, element);\n",
              "          const docLink = document.createElement('div');\n",
              "          docLink.innerHTML = docLinkHtml;\n",
              "          element.appendChild(docLink);\n",
              "        }\n",
              "      </script>\n",
              "    </div>\n",
              "  </div>\n",
              "  "
            ]
          },
          "metadata": {},
          "execution_count": 4
        },
        {
          "output_type": "stream",
          "name": "stdout",
          "text": [
            "Warning: Total number of columns (22) exceeds max_columns (20) limiting to first (20) columns.\n"
          ]
        }
      ],
      "source": [
        "#@title To use, perform a search on craigslist and copy the URL here. Enter the number of pages of results you want, -1 for all. Start small -- more pages takes more time.\n",
        "start_url = \"https://chicago.craigslist.org/search/apa\" #@param {type:\"string\"}\n",
        "pages =  1 #@param {type:\"integer\"}\n",
        "listings = get_listings(start_url, pages)\n",
        "listingdf = pd.DataFrame.from_dict(listings, orient='index')\n",
        "\n",
        "listingdf.columns = ['url', 'price', 'beds', 'sqft', 'parking', 'baths', 'descript', 'adress', 'lat', 'lon', 'date', \n",
        "                     'cats are OK - purrr', 'dogs are OK - wooof', 'air conditioning', \n",
        "              'furnished', 'w/d in unit', 'laundry on site', 'laundry in bldg', \n",
        "              'no laundry on site', 'no parking', 'street parking', 'off-street parking', \n",
        "              'detached garage']\n",
        "listingdf['laundry on site'] = listingdf['laundry on site']+listingdf['laundry in bldg']\n",
        "listingdf.drop(columns='laundry in bldg', inplace = True)\n",
        "listingdf['no parking'] = listingdf['no parking']+listingdf['street parking']\n",
        "listingdf.drop(columns='street parking', inplace=True)\n",
        "listingdf['dpsf'] = 1/(listingdf['sqft']/listingdf['price'])\n",
        "listingdf.drop_duplicates(inplace=True)\n",
        "listingdf.head()"
      ]
    },
    {
      "cell_type": "markdown",
      "metadata": {
        "id": "8OKBGeob6haC"
      },
      "source": [
        "# Analysis"
      ]
    },
    {
      "cell_type": "code",
      "source": [
        "import seaborn as sns\n",
        "sns.heatmap(listingdf.corr())"
      ],
      "metadata": {
        "colab": {
          "base_uri": "https://localhost:8080/",
          "height": 377
        },
        "id": "L_sFmfNSEBpa",
        "outputId": "1a06937d-f50f-4ef6-d146-c4cf553ae27e"
      },
      "execution_count": 5,
      "outputs": [
        {
          "output_type": "execute_result",
          "data": {
            "text/plain": [
              "<matplotlib.axes._subplots.AxesSubplot at 0x7faafb1139d0>"
            ]
          },
          "metadata": {},
          "execution_count": 5
        },
        {
          "output_type": "display_data",
          "data": {
            "text/plain": [
              "<Figure size 432x288 with 2 Axes>"
            ],
            "image/png": "[encoded data removed]"
          },
          "metadata": {
            "needs_background": "light"
          }
        }
      ]
    },
    {
      "cell_type": "code",
      "source": [
        "listingdf.corr()['dpsf'].sort_values()\n",
        "#The best thing you can do for rents is be further east.\n",
        "#The worst thing, is to not have a w/d\n",
        "#The next best thing after location is allowing pets or putting in an in-unit w/d"
      ],
      "metadata": {
        "colab": {
          "base_uri": "https://localhost:8080/"
        },
        "id": "OFI0OUHqI62f",
        "outputId": "e3b290f7-4964-4cf4-b5b9-2ccd47326ff0"
      },
      "execution_count": 6,
      "outputs": [
        {
          "output_type": "execute_result",
          "data": {
            "text/plain": [
              "sqft                  -0.285516\n",
              "laundry on site       -0.172309\n",
              "no parking            -0.158782\n",
              "furnished             -0.107218\n",
              "no laundry on site    -0.097343\n",
              "lat                   -0.016804\n",
              "detached garage       -0.009885\n",
              "cats are OK - purrr    0.019626\n",
              "lon                    0.041047\n",
              "dogs are OK - wooof    0.190305\n",
              "off-street parking     0.206401\n",
              "air conditioning       0.210139\n",
              "w/d in unit            0.222386\n",
              "price                  0.342203\n",
              "dpsf                   1.000000\n",
              "Name: dpsf, dtype: float64"
            ]
          },
          "metadata": {},
          "execution_count": 6
        }
      ]
    },
    {
      "cell_type": "code",
      "source": [
        "import matplotlib.pyplot as plt\n",
        "\n",
        "sns.scatterplot(y='lat', x='lon', hue='price', data=listingdf[['price', 'lat', 'lon']], palette='RdBu')\n",
        "plt.figsize=(80,80)"
      ],
      "metadata": {
        "colab": {
          "base_uri": "https://localhost:8080/",
          "height": 282
        },
        "id": "kwH1d7QyO2Os",
        "outputId": "a7b267c7-fcce-412e-f38d-ab98717d49bf"
      },
      "execution_count": 7,
      "outputs": [
        {
          "output_type": "display_data",
          "data": {
            "text/plain": [
              "<Figure size 432x288 with 1 Axes>"
            ],
            "image/png": "[encoded data removed]"
          },
          "metadata": {
            "needs_background": "light"
          }
        }
      ]
    },
    {
      "cell_type": "code",
      "execution_count": 16,
      "metadata": {
        "colab": {
          "base_uri": "https://localhost:8080/",
          "height": 314
        },
        "id": "0E8jjfGMhpnm",
        "outputId": "67d77d66-db53-44d6-dd44-0bedf2592a01"
      },
      "outputs": [
        {
          "output_type": "stream",
          "name": "stdout",
          "text": [
            "2685.3836130766595\n"
          ]
        },
        {
          "output_type": "execute_result",
          "data": {
            "text/plain": [
              "<matplotlib.axes._subplots.AxesSubplot at 0x7faafbb34f50>"
            ]
          },
          "metadata": {},
          "execution_count": 16
        },
        {
          "output_type": "display_data",
          "data": {
            "text/plain": [
              "<Figure size 432x288 with 1 Axes>"
            ],
            "image/png": "[encoded data removed]"
          },
          "metadata": {
            "needs_background": "light"
          }
        }
      ],
      "source": [
        "#@title Linear model: Enter square footage (number)\n",
        "sqft = 1500 #@param {type:\"number\"}\n",
        "from scipy.stats import linregress\n",
        "slope, intercept, r, p, se = linregress(x=listingdf[listingdf['sqft']>0]['sqft'], y=listingdf[listingdf['sqft']>0]['price'])\n",
        "print(slope*sqft+intercept)\n",
        "sns.regplot(x=listingdf[listingdf['sqft']>0]['sqft'], y=listingdf[listingdf['sqft']>0]['price'])"
      ]
    },
    {
      "cell_type": "code",
      "source": [
        "#@title Default title text\n",
        "\n",
        "attribute = \"w/d in unit\" #@param [\"cats are OK - purrr\", \"dogs are OK - wooof\", \"air conditioning\", \"furnished\", \"w/d in unit\", \"laundry on site\", \"no laundry on site\", \"no parking\", \"off-street parking\", \"detached garage\"]\n",
        "sns.boxplot(x=listingdf[attribute], y=listingdf['price'])\n",
        "present = (listingdf[listingdf[attribute]==1]['dpsf']).mean()\n",
        "without = (listingdf[listingdf[attribute]==0]['dpsf']).mean()\n",
        "print(attribute)\n",
        "print(\"Present: \"+str(round(present, 4)))\n",
        "print(\"Without: \"+str(round(without, 4)))\n",
        "print(\"Difference: \"+ str(round(present-without, 4)))"
      ],
      "metadata": {
        "colab": {
          "base_uri": "https://localhost:8080/",
          "height": 348
        },
        "id": "xScwKCOEOpnh",
        "outputId": "b965c2db-a9af-4f73-af59-176e73ec1f2a"
      },
      "execution_count": 29,
      "outputs": [
        {
          "output_type": "stream",
          "name": "stdout",
          "text": [
            "w/d in unit\n",
            "Present: 2.0574\n",
            "Without: 1.8586\n",
            "Difference: 0.1987\n"
          ]
        },
        {
          "output_type": "display_data",
          "data": {
            "text/plain": [
              "<Figure size 432x288 with 1 Axes>"
            ],
            "image/png": "[encoded data removed]"
          },
          "metadata": {
            "needs_background": "light"
          }
        }
      ]
    }
  ],
  "metadata": {
    "colab": {
      "collapsed_sections": [],
      "name": "CLScraper7-21.ipynb",
      "provenance": [],
      "authorship_tag": "ABX9TyMxAt2CPeSnGWHou5AnB8H0",
      "include_colab_link": true
    },
    "kernelspec": {
      "display_name": "Python 3",
      "name": "python3"
    },
    "language_info": {
      "name": "python"
    }
  },
  "nbformat": 4,
  "nbformat_minor": 0
}